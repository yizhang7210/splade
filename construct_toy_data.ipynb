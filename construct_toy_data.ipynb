{
 "cells": [
  {
   "cell_type": "code",
   "execution_count": 1,
   "id": "ffd46616-a9e8-4e7c-a2ce-6af8792729fa",
   "metadata": {
    "tags": []
   },
   "outputs": [],
   "source": [
    "import json\n",
    "import pandas as pd"
   ]
  },
  {
   "cell_type": "code",
   "execution_count": 39,
   "id": "64c457c5-847d-4a85-93e0-658624b88b89",
   "metadata": {
    "tags": []
   },
   "outputs": [],
   "source": [
    "!cp data/msmarco/val_retrieval/qrel.json data/toy_data_valid/qrel/qrel.json"
   ]
  },
  {
   "cell_type": "code",
   "execution_count": 40,
   "id": "97eefea3-930e-4273-a4af-b4aaac8e2b0b",
   "metadata": {
    "tags": []
   },
   "outputs": [],
   "source": [
    "!cp data/msmarco/val_retrieval/queries/raw.tsv data/toy_data_valid/val_queries/raw.tsv"
   ]
  },
  {
   "cell_type": "code",
   "execution_count": 41,
   "id": "830296c7-adc9-47eb-930e-996fd95eaf5d",
   "metadata": {
    "tags": []
   },
   "outputs": [],
   "source": [
    "!cp data/msmarco/val_retrieval/queries/raw.tsv data/toy_data_valid/dev_queries/raw.tsv"
   ]
  },
  {
   "cell_type": "code",
   "execution_count": 42,
   "id": "5f976850-c7b2-4cec-b112-3ddd9008583a",
   "metadata": {
    "tags": []
   },
   "outputs": [],
   "source": [
    "!cp data/msmarco/val_retrieval/collection/raw.tsv data/toy_data_valid/full_collection/raw.tsv"
   ]
  },
  {
   "cell_type": "code",
   "execution_count": 43,
   "id": "4c59967a-55ad-45a5-a8b1-b0c4eb5761c7",
   "metadata": {
    "tags": []
   },
   "outputs": [],
   "source": [
    "!cp data/msmarco/val_retrieval/collection/raw.tsv data/toy_data_valid/val_collection/raw.tsv"
   ]
  },
  {
   "cell_type": "code",
   "execution_count": 44,
   "id": "37c3321b-e17c-48ac-b771-0ad4c6b598be",
   "metadata": {
    "tags": []
   },
   "outputs": [],
   "source": [
    "val_qrel = json.load(open('data/msmarco/val_retrieval/qrel.json', 'r'))"
   ]
  },
  {
   "cell_type": "code",
   "execution_count": 45,
   "id": "b2a4862e-708e-4f18-bdd4-29d07702943e",
   "metadata": {
    "tags": []
   },
   "outputs": [],
   "source": [
    "val_queries = pd.read_table('data/msmarco/val_retrieval/queries/raw.tsv', header=None)"
   ]
  },
  {
   "cell_type": "code",
   "execution_count": 46,
   "id": "68a5fd95-39e9-4479-bafa-5a993f92809b",
   "metadata": {
    "tags": []
   },
   "outputs": [],
   "source": [
    "val_passages = pd.read_table('data/msmarco/val_retrieval/collection/raw.tsv', header=None)"
   ]
  },
  {
   "cell_type": "code",
   "execution_count": 17,
   "id": "8fa1078e-5c82-4800-8d2c-3cd5c6c205f9",
   "metadata": {
    "tags": []
   },
   "outputs": [
    {
     "data": {
      "text/plain": [
       "0       1030003\n",
       "1        765999\n",
       "2       1062991\n",
       "3       1092098\n",
       "4         77033\n",
       "         ...   \n",
       "1595    1089503\n",
       "1596     873162\n",
       "1597    1075303\n",
       "1598    1032447\n",
       "1599    1027420\n",
       "Name: 0, Length: 1600, dtype: int64"
      ]
     },
     "execution_count": 17,
     "metadata": {},
     "output_type": "execute_result"
    }
   ],
   "source": [
    "val_queries[0]"
   ]
  },
  {
   "cell_type": "code",
   "execution_count": 21,
   "id": "2b302664-017b-462d-9d08-3ffa1dad71ed",
   "metadata": {
    "tags": []
   },
   "outputs": [
    {
     "data": {
      "text/plain": [
       "0"
      ]
     },
     "execution_count": 21,
     "metadata": {},
     "output_type": "execute_result"
    }
   ],
   "source": [
    "# The ids in the qrel.json matches exactly to the queries/raw.tsv file\n",
    "sum([int(r) for r in list(val_qrel.keys())] - val_queries[0])"
   ]
  },
  {
   "cell_type": "code",
   "execution_count": 47,
   "id": "613c7296-39f2-4228-afc7-0029135fef04",
   "metadata": {
    "tags": []
   },
   "outputs": [],
   "source": [
    "val_passage_ids = set()\n",
    "for k, v in val_qrel.items():\n",
    "    val_passage_ids |= {int(kk) for kk in v.keys()}"
   ]
  },
  {
   "cell_type": "code",
   "execution_count": 48,
   "id": "f40323a3-3542-4e68-baf9-101c2f06c562",
   "metadata": {
    "tags": []
   },
   "outputs": [
    {
     "data": {
      "text/plain": [
       "1703"
      ]
     },
     "execution_count": 48,
     "metadata": {},
     "output_type": "execute_result"
    }
   ],
   "source": [
    "len(val_passage_ids)"
   ]
  },
  {
   "cell_type": "code",
   "execution_count": 49,
   "id": "4dfd1eb8-a5d6-4200-a528-443d004f7bc1",
   "metadata": {
    "tags": []
   },
   "outputs": [
    {
     "data": {
      "text/plain": [
       "276142"
      ]
     },
     "execution_count": 49,
     "metadata": {},
     "output_type": "execute_result"
    }
   ],
   "source": [
    "len(val_passages)"
   ]
  },
  {
   "cell_type": "code",
   "execution_count": 52,
   "id": "971f407e-2a6e-4761-8aa5-2a9e3899d28a",
   "metadata": {
    "tags": []
   },
   "outputs": [
    {
     "data": {
      "text/plain": [
       "1703"
      ]
     },
     "execution_count": 52,
     "metadata": {},
     "output_type": "execute_result"
    }
   ],
   "source": [
    "val_relevant_passages = val_passages[val_passages[0].isin(val_passage_ids)]\n",
    "len(val_relevant_passages)"
   ]
  },
  {
   "cell_type": "code",
   "execution_count": 53,
   "id": "b2835779-6b5d-4fd0-a5fe-30baa8d9ee10",
   "metadata": {
    "tags": []
   },
   "outputs": [
    {
     "data": {
      "text/plain": [
       "274439"
      ]
     },
     "execution_count": 53,
     "metadata": {},
     "output_type": "execute_result"
    }
   ],
   "source": [
    "val_irrelevant_passages = val_passages[~val_passages[0].isin(val_passage_ids)]\n",
    "len(val_irrelevant_passages)"
   ]
  },
  {
   "cell_type": "code",
   "execution_count": 55,
   "id": "0f68c72a-654e-41cd-9ae2-4429e985f26d",
   "metadata": {
    "tags": []
   },
   "outputs": [],
   "source": [
    "val_relevant_passages.to_csv('data/toy_data_valid/full_collection/relevant_raw.tsv', sep=\"\\t\", index=False)"
   ]
  },
  {
   "cell_type": "code",
   "execution_count": 56,
   "id": "6775633d-1e5c-4140-9a57-85dca53cdef8",
   "metadata": {
    "tags": []
   },
   "outputs": [],
   "source": [
    "val_irrelevant_passages.to_csv('data/toy_data_valid/full_collection/irrelevant_raw.tsv', sep=\"\\t\", index=False)"
   ]
  },
  {
   "cell_type": "code",
   "execution_count": null,
   "id": "89ef6069-9d69-432c-8fd7-bbcd0a0e445f",
   "metadata": {},
   "outputs": [],
   "source": []
  }
 ],
 "metadata": {
  "kernelspec": {
   "display_name": "conda_splade-ready",
   "language": "python",
   "name": "conda_splade-ready"
  },
  "language_info": {
   "codemirror_mode": {
    "name": "ipython",
    "version": 3
   },
   "file_extension": ".py",
   "mimetype": "text/x-python",
   "name": "python",
   "nbconvert_exporter": "python",
   "pygments_lexer": "ipython3",
   "version": "3.8.13"
  }
 },
 "nbformat": 4,
 "nbformat_minor": 5
}
