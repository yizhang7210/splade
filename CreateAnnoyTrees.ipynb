{
 "cells": [
  {
   "cell_type": "code",
   "execution_count": 1,
   "id": "6b381619-b465-4412-b87e-0377443c2799",
   "metadata": {
    "tags": []
   },
   "outputs": [
    {
     "name": "stdout",
     "output_type": "stream",
     "text": [
      "Looking in indexes: https://pypi.org/simple, https://pip.repos.neuron.amazonaws.com\n",
      "Requirement already satisfied: annoy in /home/ec2-user/anaconda3/envs/python3/lib/python3.10/site-packages (1.17.1)\n"
     ]
    }
   ],
   "source": [
    "!pip install annoy"
   ]
  },
  {
   "cell_type": "code",
   "execution_count": 2,
   "id": "810cbcbf-54ca-4c06-948c-47168fc53bf9",
   "metadata": {
    "tags": []
   },
   "outputs": [],
   "source": [
    "import h5py\n",
    "import pickle\n",
    "from annoy import AnnoyIndex"
   ]
  },
  {
   "cell_type": "code",
   "execution_count": 3,
   "id": "039418ba-cc8a-431d-b7e7-f017e5fd8196",
   "metadata": {
    "tags": []
   },
   "outputs": [],
   "source": [
    "f = h5py.File('array_index.h5py', 'r')"
   ]
  },
  {
   "cell_type": "code",
   "execution_count": 4,
   "id": "78b213ff-7a70-46e1-a2d1-0f19a40c4e62",
   "metadata": {
    "tags": []
   },
   "outputs": [
    {
     "data": {
      "text/plain": [
       "['dim',\n",
       " 'index_doc_id_100',\n",
       " 'index_doc_id_1000',\n",
       " 'index_doc_id_10000',\n",
       " 'index_doc_id_10001',\n",
       " 'index_doc_id_10002',\n",
       " 'index_doc_id_10003',\n",
       " 'index_doc_id_10004',\n",
       " 'index_doc_id_10005',\n",
       " 'index_doc_id_10006']"
      ]
     },
     "execution_count": 4,
     "metadata": {},
     "output_type": "execute_result"
    }
   ],
   "source": [
    "list(f.keys())[:10]"
   ]
  },
  {
   "cell_type": "code",
   "execution_count": 5,
   "id": "8e2547ed-7075-47e3-b340-1ddfec0e4ff6",
   "metadata": {
    "tags": []
   },
   "outputs": [
    {
     "data": {
      "text/plain": [
       "26098"
      ]
     },
     "execution_count": 5,
     "metadata": {},
     "output_type": "execute_result"
    }
   ],
   "source": [
    "f['dim'][()]"
   ]
  },
  {
   "cell_type": "code",
   "execution_count": 6,
   "id": "4bcf1d4e-8d8c-4b15-ac82-c058983c49e0",
   "metadata": {
    "tags": []
   },
   "outputs": [],
   "source": [
    "ids = set([x.split(\"_\")[-1] for x in f.keys() if x != \"dim\"])"
   ]
  },
  {
   "cell_type": "code",
   "execution_count": 7,
   "id": "967261a3-c740-4fe5-8775-415a1c8cf01b",
   "metadata": {
    "tags": []
   },
   "outputs": [],
   "source": [
    "from collections import defaultdict"
   ]
  },
  {
   "cell_type": "code",
   "execution_count": 8,
   "id": "61c799c3-461d-490c-82c5-49bad9fa131f",
   "metadata": {
    "tags": []
   },
   "outputs": [],
   "source": [
    "from tqdm import tqdm"
   ]
  },
  {
   "cell_type": "code",
   "execution_count": 9,
   "id": "66546f79-4257-48e2-9d7a-c30a3a47f960",
   "metadata": {
    "tags": []
   },
   "outputs": [
    {
     "name": "stderr",
     "output_type": "stream",
     "text": [
      "100%|██████████| 26098/26098 [00:34<00:00, 748.30it/s]\n"
     ]
    }
   ],
   "source": [
    "passages = defaultdict(dict)\n",
    "\n",
    "for i in tqdm(ids):\n",
    "    passage_idx = f[f\"index_doc_id_{i}\"][:]\n",
    "    values = f[f\"index_doc_value_{i}\"][:]\n",
    "    for ip, p in enumerate(passage_idx):\n",
    "        passages[str(p)][i] = float(values[ip])"
   ]
  },
  {
   "cell_type": "code",
   "execution_count": 10,
   "id": "7c204de0-8876-4399-8175-b641657c744c",
   "metadata": {
    "tags": []
   },
   "outputs": [],
   "source": [
    "import numpy as np\n",
    "def make_sparse(dense_rep, size_collection):\n",
    "    zeros = np.zeros(size_collection, dtype=np.float32)\n",
    "    for k, v in dense_rep.items():\n",
    "        zeros[int(k)] = v\n",
    "    return zeros"
   ]
  },
  {
   "cell_type": "code",
   "execution_count": null,
   "id": "7720b9af-27ca-4abe-bdcd-2cd8b466c09a",
   "metadata": {},
   "outputs": [],
   "source": []
  },
  {
   "cell_type": "code",
   "execution_count": 11,
   "id": "c9001ac3-1119-4ac5-9e64-af3ccf2c8364",
   "metadata": {
    "tags": []
   },
   "outputs": [
    {
     "data": {
      "text/plain": [
       "array([0., 0., 0., ..., 0., 0., 0.], dtype=float32)"
      ]
     },
     "execution_count": 11,
     "metadata": {},
     "output_type": "execute_result"
    }
   ],
   "source": [
    "# passage 655227\n",
    "pp = passages[\"65527\"]\n",
    "make_sparse(pp, 30522)"
   ]
  },
  {
   "cell_type": "code",
   "execution_count": 12,
   "id": "b9f8d632-9ff6-42e0-835f-5e1473e71b44",
   "metadata": {
    "tags": []
   },
   "outputs": [],
   "source": [
    "# we could potentially use an encoder decoder to maske a more dense representation\n",
    "import math\n",
    "def condense(sparse_rep, output_dim):\n",
    "    input_dim = len(sparse_rep)\n",
    "    step_size = math.ceil(input_dim / output_dim)\n",
    "    res = np.array([sum(sparse_rep[x:x+step_size]) for x in range(0, input_dim, step_size)])\n",
    "    return res"
   ]
  },
  {
   "cell_type": "code",
   "execution_count": 13,
   "id": "b8e0c3f0-9ac0-4315-b683-2c1a495ced0e",
   "metadata": {
    "tags": []
   },
   "outputs": [],
   "source": [
    "from collections import defaultdict"
   ]
  },
  {
   "cell_type": "code",
   "execution_count": 14,
   "id": "354ed14d-4c64-4bff-96e8-2405825197e7",
   "metadata": {
    "tags": []
   },
   "outputs": [],
   "source": [
    "def condense_from_dense(dense_rep, output_dim, vocab_size=30522):\n",
    "    input_dim = vocab_size\n",
    "    zeros = np.zeros(output_dim, dtype=np.float16)\n",
    "    for k,v in dense_rep.items():\n",
    "        bucket = math.ceil((int(k) / vocab_size) * 100)\n",
    "        zeros[bucket] += v\n",
    "    return zeros"
   ]
  },
  {
   "cell_type": "markdown",
   "id": "cdf5669d-1eb1-460d-8485-3251dccd26c5",
   "metadata": {},
   "source": [
    "# Make the Annoy Tree"
   ]
  },
  {
   "cell_type": "code",
   "execution_count": 15,
   "id": "956726a6-a90b-4738-9e3d-2b6332a6ef7f",
   "metadata": {
    "tags": []
   },
   "outputs": [],
   "source": [
    "passage_id_mapping = {\n",
    "    k:v for k,v in enumerate(passages.keys())\n",
    "}"
   ]
  },
  {
   "cell_type": "code",
   "execution_count": 16,
   "id": "8782651c-9a38-4a2a-9394-4a22fb68fe56",
   "metadata": {
    "tags": []
   },
   "outputs": [
    {
     "name": "stderr",
     "output_type": "stream",
     "text": [
      "100%|██████████| 276142/276142 [00:36<00:00, 7503.62it/s] \n"
     ]
    }
   ],
   "source": [
    "condensed_passages = {}\n",
    "for k,v in tqdm(passages.items()):\n",
    "    condensed_passages[k] = condense_from_dense(v, 1000)"
   ]
  },
  {
   "cell_type": "code",
   "execution_count": 17,
   "id": "b6ddf704-bdde-4d61-a4cb-86ba3c0d318c",
   "metadata": {
    "tags": []
   },
   "outputs": [],
   "source": [
    "# length of item vector that will be indexed\n",
    "# this is the vocab size\n",
    "item_index_length = 1000\n",
    "# create the tree\n",
    "annoy_tree = AnnoyIndex(item_index_length, 'dot')"
   ]
  },
  {
   "cell_type": "markdown",
   "id": "83631492-2607-4b3f-9791-f185b0bcbe25",
   "metadata": {},
   "source": [
    "The vocabulary is too big for this model I think....  \n",
    "We need to reduce the size of the item vector somehow.  \n",
    "Ideally down to 100 dimensions.  "
   ]
  },
  {
   "cell_type": "code",
   "execution_count": 18,
   "id": "6cf88e7a-a642-4c22-88f3-bf78453a73c8",
   "metadata": {
    "tags": []
   },
   "outputs": [
    {
     "name": "stderr",
     "output_type": "stream",
     "text": [
      "100%|██████████| 276142/276142 [00:27<00:00, 9960.44it/s] \n"
     ]
    }
   ],
   "source": [
    "for i in tqdm(passage_id_mapping.keys()):\n",
    "    annoy_tree.add_item(\n",
    "        i,\n",
    "        condensed_passages[passage_id_mapping[i]]\n",
    "    )"
   ]
  },
  {
   "cell_type": "code",
   "execution_count": 19,
   "id": "994429ad-f376-41d7-9f3b-d3549a4a0c4e",
   "metadata": {},
   "outputs": [
    {
     "data": {
      "text/plain": [
       "True"
      ]
     },
     "execution_count": 19,
     "metadata": {},
     "output_type": "execute_result"
    }
   ],
   "source": [
    "# mo' trees mo' problems\n",
    "# acutally less problems, but also less memory\n",
    "annoy_tree.build(item_index_length)"
   ]
  },
  {
   "cell_type": "code",
   "execution_count": 20,
   "id": "e0f87618-6ab4-46b6-8f7b-aad42f285695",
   "metadata": {},
   "outputs": [
    {
     "data": {
      "text/plain": [
       "True"
      ]
     },
     "execution_count": 20,
     "metadata": {},
     "output_type": "execute_result"
    }
   ],
   "source": [
    "annoy_tree.save(\"passages_1000.ann\")"
   ]
  },
  {
   "cell_type": "code",
   "execution_count": 21,
   "id": "be0f3ca6-c17a-4c2c-8400-d3e65b1c2661",
   "metadata": {
    "tags": []
   },
   "outputs": [],
   "source": [
    "# save the passge id mapping\n",
    "import json\n",
    "with open(\"passage_id_mapping_annot_1000.json\", \"w\") as f:\n",
    "    json.dump(passage_id_mapping, f)"
   ]
  },
  {
   "cell_type": "code",
   "execution_count": 22,
   "id": "a0a71696-1ba0-4c15-8846-98d5c72dfd92",
   "metadata": {
    "tags": []
   },
   "outputs": [
    {
     "name": "stdout",
     "output_type": "stream",
     "text": [
      "/home/ec2-user/SageMaker/splade/experiments/index-full-data/index\n"
     ]
    }
   ],
   "source": [
    "!pwd"
   ]
  },
  {
   "cell_type": "code",
   "execution_count": null,
   "id": "07612b60-8073-4be7-9e11-92536394595e",
   "metadata": {},
   "outputs": [],
   "source": []
  }
 ],
 "metadata": {
  "kernelspec": {
   "display_name": "conda_python3",
   "language": "python",
   "name": "conda_python3"
  },
  "language_info": {
   "codemirror_mode": {
    "name": "ipython",
    "version": 3
   },
   "file_extension": ".py",
   "mimetype": "text/x-python",
   "name": "python",
   "nbconvert_exporter": "python",
   "pygments_lexer": "ipython3",
   "version": "3.10.8"
  }
 },
 "nbformat": 4,
 "nbformat_minor": 5
}
