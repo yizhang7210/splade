{
 "cells": [
  {
   "cell_type": "code",
   "execution_count": null,
   "id": "0946e0d1-8309-4795-aaba-f0feefe4f6c0",
   "metadata": {},
   "outputs": [],
   "source": [
    "# Running experiments on index size"
   ]
  },
  {
   "cell_type": "code",
   "execution_count": 1,
   "id": "2d14f119-68a1-4c0b-9090-ca3357909f37",
   "metadata": {
    "tags": []
   },
   "outputs": [
    {
     "name": "stdout",
     "output_type": "stream",
     "text": [
      "/home/ec2-user/SageMaker/custom-miniconda/miniconda/envs/splade-ready/lib/python3.8/site-packages/hydra/_internal/defaults_list.py:251: UserWarning: In 'config_default': Defaults list is missing `_self_`. See https://hydra.cc/docs/upgrades/1.0_to_1.1/default_composition_order for more information\n",
      "  warnings.warn(msg, UserWarning)\n",
      "config:\n",
      "  lr: 2.0e-05\n",
      "  seed: 123\n",
      "  gradient_accumulation_steps: 1\n",
      "  weight_decay: 0.01\n",
      "  validation_metrics:\n",
      "  - MRR@10\n",
      "  - recall@100\n",
      "  - recall@200\n",
      "  - recall@500\n",
      "  pretrained_no_yamlconfig: true\n",
      "  nb_iterations: 10\n",
      "  train_batch_size: 6\n",
      "  eval_batch_size: 8\n",
      "  index_retrieve_batch_size: 6\n",
      "  record_frequency: 3\n",
      "  train_monitoring_freq: 2\n",
      "  warmup_steps: 5\n",
      "  max_length: 10\n",
      "  fp16: false\n",
      "  augment_pairs: in_batch_negatives\n",
      "  matching_type: splade\n",
      "  monitoring_ckpt: loss\n",
      "  loss: InBatchPairwiseNLL\n",
      "  regularizer:\n",
      "    FLOPS:\n",
      "      lambda_q: 0.0005\n",
      "      lambda_d: 0.0003\n",
      "      T: 3\n",
      "      targeted_rep: rep\n",
      "      reg: FLOPS\n",
      "  tokenizer_type: distilbert-base-uncased\n",
      "  top_k: 5\n",
      "  threshold: 0.4\n",
      "  eval_metric:\n",
      "  - - mrr_10\n",
      "    - recall\n",
      "  checkpoint_dir: ???\n",
      "  index_dir: experiments/index-baseline/index\n",
      "  out_dir: ???\n",
      "data:\n",
      "  type: triplets\n",
      "  TRAIN_DATA_DIR: data/toy_data/triplets\n",
      "  VALIDATION_SIZE_FOR_LOSS: 20\n",
      "  VALIDATION_FULL_RANKING:\n",
      "    D_COLLECTION_PATH: data/toy_data/val_collection\n",
      "    Q_COLLECTION_PATH: data/toy_data/val_queries\n",
      "    QREL_PATH: data/toy_data/qrel/qrel.json\n",
      "    TOP_K: 20\n",
      "  COLLECTION_PATH: data/toy_data/full_collection\n",
      "  Q_COLLECTION_PATH:\n",
      "  - data/toy_data/dev_queries\n",
      "  EVAL_QREL_PATH:\n",
      "  - data/toy_data/qrel/qrel.json\n",
      "  flops_queries: data/toy_data/dev_queries\n",
      "init_dict:\n",
      "  model_type_or_dir: naver/splade-cocondenser-ensembledistil\n",
      "  model_type_or_dir_q: null\n",
      "  freeze_d_model: 0\n",
      "  agg: max\n",
      "  fp16: true\n",
      "\n",
      "Downloading: 100%|██████████████████████████████| 670/670 [00:00<00:00, 604kB/s]\n",
      "Downloading: 100%|███████████████████████████| 418M/418M [00:05<00:00, 85.1MB/s]\n",
      "Downloading: 100%|██████████████████████████████| 466/466 [00:00<00:00, 426kB/s]\n",
      "Downloading: 100%|███████████████████████████| 226k/226k [00:00<00:00, 1.24MB/s]\n",
      "Downloading: 100%|███████████████████████████| 455k/455k [00:00<00:00, 1.45MB/s]\n",
      "Downloading: 100%|█████████████████████████████| 112/112 [00:00<00:00, 73.2kB/s]\n",
      "Preloading dataset\n",
      "8520it [00:00, 335730.31it/s]\n",
      "Downloading: 100%|███████████████████████████| 28.0/28.0 [00:00<00:00, 20.0kB/s]\n",
      "Downloading: 100%|██████████████████████████████| 483/483 [00:00<00:00, 163kB/s]\n",
      "Downloading: 100%|████████████████████████████| 226k/226k [00:00<00:00, 925kB/s]\n",
      "Downloading: 100%|███████████████████████████| 455k/455k [00:00<00:00, 1.46MB/s]\n",
      "/home/ec2-user/SageMaker/custom-miniconda/miniconda/envs/splade-ready/lib/python3.8/site-packages/torch/utils/data/dataloader.py:487: UserWarning: This DataLoader will create 10 worker processes in total. Our suggested max number of worker in current system is 2, which is smaller than what this DataLoader is going to create. Please be aware that excessive worker creation might get DataLoader running slow or even freeze, lower the worker number to avoid potential slowness/freeze if necessary.\n",
      "  warnings.warn(_create_warning_msg(\n",
      "initializing new index...\n",
      " 28%|███████████▎                            | 401/1420 [01:31<03:34,  4.74it/s]^C\n",
      " 28%|███████████▎                            | 401/1420 [01:32<03:54,  4.35it/s]\n",
      "Traceback (most recent call last):\n",
      "  File \"/home/ec2-user/SageMaker/custom-miniconda/miniconda/envs/splade-ready/lib/python3.8/runpy.py\", line 194, in _run_module_as_main\n",
      "    return _run_code(code, main_globals, None,\n",
      "  File \"/home/ec2-user/SageMaker/custom-miniconda/miniconda/envs/splade-ready/lib/python3.8/runpy.py\", line 87, in _run_code\n",
      "    exec(code, run_globals)\n",
      "  File \"/home/ec2-user/SageMaker/splade/splade/index.py\", line 28, in <module>\n",
      "    index()\n",
      "  File \"/home/ec2-user/SageMaker/custom-miniconda/miniconda/envs/splade-ready/lib/python3.8/site-packages/hydra/main.py\", line 48, in decorated_main\n",
      "    _run_hydra(\n",
      "  File \"/home/ec2-user/SageMaker/custom-miniconda/miniconda/envs/splade-ready/lib/python3.8/site-packages/hydra/_internal/utils.py\", line 377, in _run_hydra\n",
      "    run_and_report(\n",
      "  File \"/home/ec2-user/SageMaker/custom-miniconda/miniconda/envs/splade-ready/lib/python3.8/site-packages/hydra/_internal/utils.py\", line 211, in run_and_report\n",
      "    return func()\n",
      "  File \"/home/ec2-user/SageMaker/custom-miniconda/miniconda/envs/splade-ready/lib/python3.8/site-packages/hydra/_internal/utils.py\", line 378, in <lambda>\n",
      "    lambda: hydra.run(\n",
      "  File \"/home/ec2-user/SageMaker/custom-miniconda/miniconda/envs/splade-ready/lib/python3.8/site-packages/hydra/_internal/hydra.py\", line 98, in run\n"
     ]
    }
   ],
   "source": [
    "!SPLADE_CONFIG_NAME=\"config_default.yaml\" python3 -m splade.index init_dict.model_type_or_dir=naver/splade-cocondenser-ensembledistil config.pretrained_no_yamlconfig=true config.index_dir=experiments/index-baseline/index"
   ]
  },
  {
   "cell_type": "code",
   "execution_count": null,
   "id": "06274755-ee55-49ca-bc1d-b291d7963a5a",
   "metadata": {},
   "outputs": [],
   "source": []
  }
 ],
 "metadata": {
  "kernelspec": {
   "display_name": "conda_splade-ready",
   "language": "python",
   "name": "conda_splade-ready"
  },
  "language_info": {
   "codemirror_mode": {
    "name": "ipython",
    "version": 3
   },
   "file_extension": ".py",
   "mimetype": "text/x-python",
   "name": "python",
   "nbconvert_exporter": "python",
   "pygments_lexer": "ipython3",
   "version": "3.8.13"
  }
 },
 "nbformat": 4,
 "nbformat_minor": 5
}
