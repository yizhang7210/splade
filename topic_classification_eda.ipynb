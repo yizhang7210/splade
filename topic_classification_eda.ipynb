{
 "cells": [
  {
   "cell_type": "code",
   "execution_count": 1,
   "id": "08fb9e8b-bc43-43f4-87fa-b40b9d798c51",
   "metadata": {
    "tags": []
   },
   "outputs": [
    {
     "name": "stderr",
     "output_type": "stream",
     "text": [
      "/home/ec2-user/SageMaker/custom-miniconda/miniconda/envs/splade-ready/lib/python3.8/site-packages/tqdm/auto.py:22: TqdmWarning: IProgress not found. Please update jupyter and ipywidgets. See https://ipywidgets.readthedocs.io/en/stable/user_install.html\n",
      "  from .autonotebook import tqdm as notebook_tqdm\n"
     ]
    }
   ],
   "source": [
    "import pandas as pd\n",
    "import torch"
   ]
  },
  {
   "cell_type": "code",
   "execution_count": 19,
   "id": "8efc379b-0adf-4df2-9e37-1be3bea91db5",
   "metadata": {
    "tags": []
   },
   "outputs": [],
   "source": [
    "full_collection = pd.read_table('data/toy_data/full_collection/raw.tsv', sep='\\t', header=None)"
   ]
  },
  {
   "cell_type": "code",
   "execution_count": 32,
   "id": "0563498a-59c3-43b5-84e6-3f805ea5e12f",
   "metadata": {
    "tags": []
   },
   "outputs": [
    {
     "data": {
      "text/plain": [
       "8519"
      ]
     },
     "execution_count": 32,
     "metadata": {},
     "output_type": "execute_result"
    }
   ],
   "source": [
    "len(full_collection)"
   ]
  },
  {
   "cell_type": "code",
   "execution_count": 21,
   "id": "21b5298a-6b50-459f-baaa-a5a0cef1e59d",
   "metadata": {
    "tags": []
   },
   "outputs": [
    {
     "data": {
      "text/plain": [
       "'The presence of communication amid scientific minds was equally important to the success of the Manhattan Project as scientific intellect was. The only cloud hanging over the impressive achievement of the atomic researchers and engineers is what their success truly meant; hundreds of thousands of innocent lives obliterated.'"
      ]
     },
     "execution_count": 21,
     "metadata": {},
     "output_type": "execute_result"
    }
   ],
   "source": [
    "full_collection[1][0]"
   ]
  },
  {
   "cell_type": "code",
   "execution_count": 9,
   "id": "c3f827b6-feae-4f24-9a24-04b6a58b3e5a",
   "metadata": {
    "tags": []
   },
   "outputs": [
    {
     "name": "stderr",
     "output_type": "stream",
     "text": [
      "/home/ec2-user/SageMaker/custom-miniconda/miniconda/envs/splade-ready/lib/python3.8/site-packages/tqdm/auto.py:22: TqdmWarning: IProgress not found. Please update jupyter and ipywidgets. See https://ipywidgets.readthedocs.io/en/stable/user_install.html\n",
      "  from .autonotebook import tqdm as notebook_tqdm\n"
     ]
    }
   ],
   "source": [
    "from transformers import AutoModelForSequenceClassification, TFAutoModelForSequenceClassification\n",
    "from transformers import AutoTokenizer\n",
    "import numpy as np\n",
    "from scipy.special import expit"
   ]
  },
  {
   "cell_type": "code",
   "execution_count": 12,
   "id": "8392aa6c-5b44-472a-b13f-bc40f23b8872",
   "metadata": {
    "tags": []
   },
   "outputs": [
    {
     "name": "stderr",
     "output_type": "stream",
     "text": [
      "Downloading: 100%|██████████| 1.27k/1.27k [00:00<00:00, 537kB/s]\n",
      "Downloading: 100%|██████████| 780k/780k [00:00<00:00, 2.47MB/s]\n",
      "Downloading: 100%|██████████| 446k/446k [00:00<00:00, 1.48MB/s]\n",
      "Downloading: 100%|██████████| 1.29M/1.29M [00:00<00:00, 3.09MB/s]\n",
      "Downloading: 100%|██████████| 239/239 [00:00<00:00, 166kB/s]\n",
      "Downloading: 100%|██████████| 1.84k/1.84k [00:00<00:00, 457kB/s]\n",
      "Downloading: 100%|██████████| 476M/476M [00:24<00:00, 20.7MB/s] \n"
     ]
    },
    {
     "ename": "NameError",
     "evalue": "name 'full_collection' is not defined",
     "output_type": "error",
     "traceback": [
      "\u001b[0;31m---------------------------------------------------------------------------\u001b[0m",
      "\u001b[0;31mNameError\u001b[0m                                 Traceback (most recent call last)",
      "Cell \u001b[0;32mIn[12], line 8\u001b[0m\n\u001b[1;32m      5\u001b[0m model \u001b[38;5;241m=\u001b[39m AutoModelForSequenceClassification\u001b[38;5;241m.\u001b[39mfrom_pretrained(MODEL)\n\u001b[1;32m      6\u001b[0m class_mapping \u001b[38;5;241m=\u001b[39m model\u001b[38;5;241m.\u001b[39mconfig\u001b[38;5;241m.\u001b[39mid2label\n\u001b[0;32m----> 8\u001b[0m text \u001b[38;5;241m=\u001b[39m \u001b[38;5;28mlist\u001b[39m(\u001b[43mfull_collection\u001b[49m[\u001b[38;5;241m1\u001b[39m])\n",
      "\u001b[0;31mNameError\u001b[0m: name 'full_collection' is not defined"
     ]
    }
   ],
   "source": [
    "MODEL = f\"cardiffnlp/tweet-topic-21-multi\"\n",
    "tokenizer = AutoTokenizer.from_pretrained(MODEL)\n",
    "\n",
    "# PT\n",
    "model = AutoModelForSequenceClassification.from_pretrained(MODEL)\n",
    "class_mapping = model.config.id2label\n",
    "\n",
    "text = list(full_collection[1])"
   ]
  },
  {
   "cell_type": "code",
   "execution_count": 13,
   "id": "359409a3-256d-4fb0-8d51-503b28c09892",
   "metadata": {
    "tags": []
   },
   "outputs": [
    {
     "data": {
      "text/plain": [
       "{0: 'arts_&_culture',\n",
       " 1: 'business_&_entrepreneurs',\n",
       " 2: 'celebrity_&_pop_culture',\n",
       " 3: 'diaries_&_daily_life',\n",
       " 4: 'family',\n",
       " 5: 'fashion_&_style',\n",
       " 6: 'film_tv_&_video',\n",
       " 7: 'fitness_&_health',\n",
       " 8: 'food_&_dining',\n",
       " 9: 'gaming',\n",
       " 10: 'learning_&_educational',\n",
       " 11: 'music',\n",
       " 12: 'news_&_social_concern',\n",
       " 13: 'other_hobbies',\n",
       " 14: 'relationships',\n",
       " 15: 'science_&_technology',\n",
       " 16: 'sports',\n",
       " 17: 'travel_&_adventure',\n",
       " 18: 'youth_&_student_life'}"
      ]
     },
     "execution_count": 13,
     "metadata": {},
     "output_type": "execute_result"
    }
   ],
   "source": [
    "class_mapping"
   ]
  },
  {
   "cell_type": "code",
   "execution_count": 48,
   "id": "c28dc08c-c1ae-493f-badf-186820d91b7f",
   "metadata": {
    "tags": []
   },
   "outputs": [
    {
     "data": {
      "text/plain": [
       "311"
      ]
     },
     "execution_count": 48,
     "metadata": {},
     "output_type": "execute_result"
    }
   ],
   "source": [
    "len(text[1])"
   ]
  },
  {
   "cell_type": "code",
   "execution_count": 67,
   "id": "5cc7c0f1-114b-40cb-afdc-bb50f85f3676",
   "metadata": {
    "tags": []
   },
   "outputs": [],
   "source": [
    "#tokens = tokenizer(text[0:10], truncation=True, max_length=512, return_tensors='pt')\n",
    "tokens = tokenizer(text[0:10], truncation=True, max_length=512, padding='max_length', return_tensors='pt')"
   ]
  },
  {
   "cell_type": "code",
   "execution_count": 68,
   "id": "2737c687-b8a8-4fdc-89f0-89038eb81de7",
   "metadata": {
    "tags": []
   },
   "outputs": [
    {
     "data": {
      "text/plain": [
       "{'input_ids': tensor([[    0,   133,  2621,  ...,     1,     1,     1],\n",
       "        [    0,  1106,     5,  ...,     1,     1,     1],\n",
       "        [    0,   133,   129,  ...,     1,     1,     1],\n",
       "        ...,\n",
       "        [    0,   133,  2136,  ...,     1,     1,     1],\n",
       "        [    0, 33295, 17444,  ...,     1,     1,     1],\n",
       "        [    0,  6179,  7840,  ...,     1,     1,     1]]), 'attention_mask': tensor([[1, 1, 1,  ..., 0, 0, 0],\n",
       "        [1, 1, 1,  ..., 0, 0, 0],\n",
       "        [1, 1, 1,  ..., 0, 0, 0],\n",
       "        ...,\n",
       "        [1, 1, 1,  ..., 0, 0, 0],\n",
       "        [1, 1, 1,  ..., 0, 0, 0],\n",
       "        [1, 1, 1,  ..., 0, 0, 0]])}"
      ]
     },
     "execution_count": 68,
     "metadata": {},
     "output_type": "execute_result"
    }
   ],
   "source": [
    "tokens"
   ]
  },
  {
   "cell_type": "code",
   "execution_count": 69,
   "id": "a01b521b-73e4-4df4-82df-cdcfd6c86970",
   "metadata": {
    "tags": []
   },
   "outputs": [
    {
     "name": "stdout",
     "output_type": "stream",
     "text": [
      "[0.01264997 0.04049299 0.01736691 0.03581383 0.00802592 0.00493251\n",
      " 0.01345491 0.01676077 0.00823048 0.0103578  0.2774843  0.01549087\n",
      " 0.33673996 0.02477628 0.00906948 0.8390681  0.03405136 0.02357959\n",
      " 0.06382543]\n",
      "1.792171472683549\n"
     ]
    }
   ],
   "source": [
    "output = model(**tokens)\n",
    "\n",
    "scores = output[0][0].detach().numpy()\n",
    "scores = expit(scores)\n",
    "print(scores)\n",
    "print(sum(scores))"
   ]
  },
  {
   "cell_type": "code",
   "execution_count": 74,
   "id": "40c81efe-5867-414e-b17f-4052b49bec51",
   "metadata": {
    "tags": []
   },
   "outputs": [
    {
     "data": {
      "text/plain": [
       "(10, 19)"
      ]
     },
     "execution_count": 74,
     "metadata": {},
     "output_type": "execute_result"
    }
   ],
   "source": [
    "output[0].detach().numpy().shape"
   ]
  },
  {
   "cell_type": "code",
   "execution_count": 77,
   "id": "bcb99f89-44ec-4ac4-ba23-87626a52370c",
   "metadata": {
    "tags": []
   },
   "outputs": [],
   "source": [
    "!export PYTHONPATH=$PYTHONPATH:$(pwd)"
   ]
  },
  {
   "cell_type": "code",
   "execution_count": 4,
   "id": "38153c77-fe87-4dd4-81a4-21270db50e04",
   "metadata": {
    "tags": []
   },
   "outputs": [
    {
     "name": "stdout",
     "output_type": "stream",
     "text": [
      "Preloading dataset\n"
     ]
    },
    {
     "name": "stderr",
     "output_type": "stream",
     "text": [
      "8519it [00:00, 202645.56it/s]\n"
     ]
    }
   ],
   "source": [
    "from splade.datasets.datasets import CollectionDatasetPreLoad\n",
    "d_collection = CollectionDatasetPreLoad(data_dir='data/toy_data/full_collection/', id_style=\"row_id\")"
   ]
  },
  {
   "cell_type": "code",
   "execution_count": 5,
   "id": "386d42ed-67c2-4db3-a75e-40135b0f201b",
   "metadata": {
    "tags": []
   },
   "outputs": [],
   "source": [
    "passages = []\n",
    "for i in range(len(d_collection)):\n",
    "    passages.append(d_collection[i][1])"
   ]
  },
  {
   "cell_type": "code",
   "execution_count": 6,
   "id": "8f13c7d0-653e-4438-bff2-6f5f8586f800",
   "metadata": {
    "tags": []
   },
   "outputs": [
    {
     "data": {
      "text/plain": [
       "8519"
      ]
     },
     "execution_count": 6,
     "metadata": {},
     "output_type": "execute_result"
    }
   ],
   "source": [
    "len(passages)"
   ]
  },
  {
   "cell_type": "code",
   "execution_count": 15,
   "id": "0f323a51-b96a-40e3-ac1b-bd49492cc29d",
   "metadata": {
    "tags": []
   },
   "outputs": [],
   "source": [
    "MODEL = f\"cardiffnlp/tweet-topic-21-multi\"\n",
    "tokenizer = AutoTokenizer.from_pretrained(MODEL)\n",
    "\n",
    "# PT\n",
    "model = AutoModelForSequenceClassification.from_pretrained(MODEL)\n",
    "tokens = tokenizer(passages[:20], truncation=True, max_length=512, padding='max_length', return_tensors='pt')\n",
    "\n",
    "output = model(**tokens)\n"
   ]
  },
  {
   "cell_type": "code",
   "execution_count": 8,
   "id": "a4cb5b9b-56af-4394-9664-04036ba4a4c6",
   "metadata": {
    "tags": []
   },
   "outputs": [
    {
     "data": {
      "text/plain": [
       "{'input_ids': tensor([[    0,   133,  2621,  ...,     1,     1,     1],\n",
       "        [    0,  1106,     5,  ...,     1,     1,     1],\n",
       "        [    0,   133,   129,  ...,     1,     1,     1],\n",
       "        ...,\n",
       "        [    0,  9344, 30300,  ...,     1,     1,     1],\n",
       "        [    0,   250,  3723,  ...,     1,     1,     1],\n",
       "        [    0,  1779,    16,  ...,     1,     1,     1]]), 'attention_mask': tensor([[1, 1, 1,  ..., 0, 0, 0],\n",
       "        [1, 1, 1,  ..., 0, 0, 0],\n",
       "        [1, 1, 1,  ..., 0, 0, 0],\n",
       "        ...,\n",
       "        [1, 1, 1,  ..., 0, 0, 0],\n",
       "        [1, 1, 1,  ..., 0, 0, 0],\n",
       "        [1, 1, 1,  ..., 0, 0, 0]])}"
      ]
     },
     "execution_count": 8,
     "metadata": {},
     "output_type": "execute_result"
    }
   ],
   "source": [
    "tokens"
   ]
  },
  {
   "cell_type": "code",
   "execution_count": 20,
   "id": "138dbf55-1e93-4d76-be22-026f17c5ab2d",
   "metadata": {
    "tags": []
   },
   "outputs": [],
   "source": [
    "batch_1 = output[0].detach().numpy()\n",
    "batch_2 = output[0].detach().numpy()"
   ]
  },
  {
   "cell_type": "code",
   "execution_count": 18,
   "id": "6842ce86-76f4-4cf3-884b-148455f7f8de",
   "metadata": {
    "tags": []
   },
   "outputs": [],
   "source": [
    "import h5py"
   ]
  },
  {
   "cell_type": "code",
   "execution_count": 24,
   "id": "fd412342-c40e-476e-8549-3ca856c36d0b",
   "metadata": {
    "tags": []
   },
   "outputs": [
    {
     "data": {
      "text/plain": [
       "(40, 19)"
      ]
     },
     "execution_count": 24,
     "metadata": {},
     "output_type": "execute_result"
    }
   ],
   "source": [
    "np.vstack([batch_1, batch_2]).shape"
   ]
  },
  {
   "cell_type": "code",
   "execution_count": 27,
   "id": "9a36d53d-d7c6-460f-b5c2-cd56730c74b5",
   "metadata": {
    "tags": []
   },
   "outputs": [],
   "source": [
    "empty = np.empty(shape=(0, 19))"
   ]
  },
  {
   "cell_type": "code",
   "execution_count": 28,
   "id": "18927f4a-c8ec-4b84-bc8c-88e94f210278",
   "metadata": {
    "tags": []
   },
   "outputs": [
    {
     "data": {
      "text/plain": [
       "(20, 19)"
      ]
     },
     "execution_count": 28,
     "metadata": {},
     "output_type": "execute_result"
    }
   ],
   "source": [
    "np.vstack([empty, batch_1]).shape"
   ]
  },
  {
   "cell_type": "code",
   "execution_count": 1,
   "id": "2ab89895-96eb-48e8-ab5e-a06dc94ab2a6",
   "metadata": {
    "tags": []
   },
   "outputs": [
    {
     "data": {
      "text/plain": [
       "[12, 3]"
      ]
     },
     "execution_count": 1,
     "metadata": {},
     "output_type": "execute_result"
    }
   ],
   "source": [
    "a = [12,3,4]\n",
    "a[0:2]"
   ]
  },
  {
   "cell_type": "code",
   "execution_count": 7,
   "id": "759ec54d-d7c8-4a8e-81da-ddacb5d963a6",
   "metadata": {
    "tags": []
   },
   "outputs": [
    {
     "name": "stdout",
     "output_type": "stream",
     "text": [
      "indexing batch 0\n",
      "0 10\n",
      "[0, 1, 2, 3, 4, 5, 6, 7, 8, 9]\n",
      "-=------------- 10\n",
      "indexing batch 1\n",
      "10 20\n",
      "[10, 11, 12, 13, 14, 15, 16, 17, 18, 19]\n",
      "-=------------- 10\n",
      "indexing batch 2\n",
      "20 30\n",
      "[20, 21, 22, 23, 24, 25, 26, 27, 28, 29]\n",
      "-=------------- 10\n",
      "indexing batch 3\n",
      "30 40\n",
      "[30, 31, 32, 33, 34, 35, 36, 37, 38, 39]\n",
      "-=------------- 10\n",
      "indexing batch 4\n",
      "40 50\n",
      "[40, 41, 42, 43, 44, 45, 46, 47, 48, 49]\n",
      "-=------------- 10\n"
     ]
    }
   ],
   "source": [
    "batch_size = 10\n",
    "arr = range(100)\n",
    "for i in range(5):\n",
    "    print(f\"indexing batch {i}\")\n",
    "    start = i * batch_size\n",
    "    end = (i +1) * batch_size\n",
    "    print(start, end)\n",
    "    print(list(arr[start:end]))\n",
    "    print(\"-=-------------\", len(list(arr[start:end])))\n"
   ]
  },
  {
   "cell_type": "code",
   "execution_count": 2,
   "id": "8d6b3ecc-bcaf-47a3-adb2-b1e86866bb2b",
   "metadata": {
    "tags": []
   },
   "outputs": [],
   "source": [
    "#==========================================\n",
    "# Reading the generated topics back"
   ]
  },
  {
   "cell_type": "code",
   "execution_count": 39,
   "id": "d44cb7c4-1794-4674-b01d-46e99f6ddc8e",
   "metadata": {
    "tags": []
   },
   "outputs": [],
   "source": [
    "raw_classifications = pd.read_csv('data/toy_data/full_collection/full_collection_classifications.csv')"
   ]
  },
  {
   "cell_type": "code",
   "execution_count": 40,
   "id": "3d707be2-febc-4f23-89fb-3634bd55c02e",
   "metadata": {
    "tags": []
   },
   "outputs": [
    {
     "data": {
      "text/html": [
       "<div>\n",
       "<style scoped>\n",
       "    .dataframe tbody tr th:only-of-type {\n",
       "        vertical-align: middle;\n",
       "    }\n",
       "\n",
       "    .dataframe tbody tr th {\n",
       "        vertical-align: top;\n",
       "    }\n",
       "\n",
       "    .dataframe thead th {\n",
       "        text-align: right;\n",
       "    }\n",
       "</style>\n",
       "<table border=\"1\" class=\"dataframe\">\n",
       "  <thead>\n",
       "    <tr style=\"text-align: right;\">\n",
       "      <th></th>\n",
       "      <th>Unnamed: 0</th>\n",
       "      <th>0</th>\n",
       "      <th>1</th>\n",
       "      <th>2</th>\n",
       "      <th>3</th>\n",
       "      <th>4</th>\n",
       "      <th>5</th>\n",
       "      <th>6</th>\n",
       "      <th>7</th>\n",
       "      <th>8</th>\n",
       "      <th>9</th>\n",
       "      <th>10</th>\n",
       "      <th>11</th>\n",
       "      <th>12</th>\n",
       "      <th>13</th>\n",
       "      <th>14</th>\n",
       "      <th>15</th>\n",
       "      <th>16</th>\n",
       "      <th>17</th>\n",
       "      <th>18</th>\n",
       "    </tr>\n",
       "  </thead>\n",
       "  <tbody>\n",
       "    <tr>\n",
       "      <th>0</th>\n",
       "      <td>0</td>\n",
       "      <td>-4.357370</td>\n",
       "      <td>-3.165291</td>\n",
       "      <td>-4.035669</td>\n",
       "      <td>-3.292950</td>\n",
       "      <td>-4.817021</td>\n",
       "      <td>-5.306963</td>\n",
       "      <td>-4.294865</td>\n",
       "      <td>-4.071812</td>\n",
       "      <td>-4.791646</td>\n",
       "      <td>-4.559603</td>\n",
       "      <td>-0.956975</td>\n",
       "      <td>-4.151893</td>\n",
       "      <td>-0.677856</td>\n",
       "      <td>-3.672780</td>\n",
       "      <td>-4.693730</td>\n",
       "      <td>1.651311</td>\n",
       "      <td>-3.345241</td>\n",
       "      <td>-3.723512</td>\n",
       "      <td>-2.685650</td>\n",
       "    </tr>\n",
       "    <tr>\n",
       "      <th>1</th>\n",
       "      <td>1</td>\n",
       "      <td>-4.495866</td>\n",
       "      <td>-4.518273</td>\n",
       "      <td>-4.568266</td>\n",
       "      <td>-0.242958</td>\n",
       "      <td>-4.140872</td>\n",
       "      <td>-4.882246</td>\n",
       "      <td>-5.725925</td>\n",
       "      <td>1.625383</td>\n",
       "      <td>-4.964516</td>\n",
       "      <td>-4.825768</td>\n",
       "      <td>-3.852815</td>\n",
       "      <td>-4.164156</td>\n",
       "      <td>-0.899610</td>\n",
       "      <td>-3.663375</td>\n",
       "      <td>-3.618675</td>\n",
       "      <td>-3.317337</td>\n",
       "      <td>-2.251630</td>\n",
       "      <td>-4.213649</td>\n",
       "      <td>-4.260256</td>\n",
       "    </tr>\n",
       "    <tr>\n",
       "      <th>2</th>\n",
       "      <td>2</td>\n",
       "      <td>-3.651329</td>\n",
       "      <td>-4.368081</td>\n",
       "      <td>-4.259689</td>\n",
       "      <td>-0.130951</td>\n",
       "      <td>-4.593590</td>\n",
       "      <td>-5.185289</td>\n",
       "      <td>-6.261438</td>\n",
       "      <td>0.130258</td>\n",
       "      <td>-4.924407</td>\n",
       "      <td>-5.481863</td>\n",
       "      <td>-2.389743</td>\n",
       "      <td>-4.309179</td>\n",
       "      <td>-1.538690</td>\n",
       "      <td>-2.784120</td>\n",
       "      <td>-3.888411</td>\n",
       "      <td>-3.289715</td>\n",
       "      <td>-3.816337</td>\n",
       "      <td>-3.866705</td>\n",
       "      <td>-3.788431</td>\n",
       "    </tr>\n",
       "    <tr>\n",
       "      <th>3</th>\n",
       "      <td>3</td>\n",
       "      <td>-2.969216</td>\n",
       "      <td>-3.109171</td>\n",
       "      <td>-0.553384</td>\n",
       "      <td>0.832794</td>\n",
       "      <td>-0.267655</td>\n",
       "      <td>-3.797642</td>\n",
       "      <td>-0.608121</td>\n",
       "      <td>-4.625715</td>\n",
       "      <td>-4.904062</td>\n",
       "      <td>-4.774277</td>\n",
       "      <td>-4.478104</td>\n",
       "      <td>-3.840984</td>\n",
       "      <td>-2.616863</td>\n",
       "      <td>-3.443625</td>\n",
       "      <td>1.923264</td>\n",
       "      <td>-4.327539</td>\n",
       "      <td>-4.288401</td>\n",
       "      <td>-3.946356</td>\n",
       "      <td>-4.115621</td>\n",
       "    </tr>\n",
       "    <tr>\n",
       "      <th>4</th>\n",
       "      <td>4</td>\n",
       "      <td>-3.133940</td>\n",
       "      <td>-4.801567</td>\n",
       "      <td>-4.346203</td>\n",
       "      <td>-2.270239</td>\n",
       "      <td>-6.063247</td>\n",
       "      <td>-6.246601</td>\n",
       "      <td>-3.909956</td>\n",
       "      <td>-4.855967</td>\n",
       "      <td>-5.146725</td>\n",
       "      <td>-5.142206</td>\n",
       "      <td>-2.564400</td>\n",
       "      <td>-4.229722</td>\n",
       "      <td>1.517462</td>\n",
       "      <td>-2.321126</td>\n",
       "      <td>-5.701975</td>\n",
       "      <td>-0.425106</td>\n",
       "      <td>-6.360362</td>\n",
       "      <td>-3.214725</td>\n",
       "      <td>-4.315653</td>\n",
       "    </tr>\n",
       "  </tbody>\n",
       "</table>\n",
       "</div>"
      ],
      "text/plain": [
       "   Unnamed: 0         0         1         2         3         4         5  \\\n",
       "0           0 -4.357370 -3.165291 -4.035669 -3.292950 -4.817021 -5.306963   \n",
       "1           1 -4.495866 -4.518273 -4.568266 -0.242958 -4.140872 -4.882246   \n",
       "2           2 -3.651329 -4.368081 -4.259689 -0.130951 -4.593590 -5.185289   \n",
       "3           3 -2.969216 -3.109171 -0.553384  0.832794 -0.267655 -3.797642   \n",
       "4           4 -3.133940 -4.801567 -4.346203 -2.270239 -6.063247 -6.246601   \n",
       "\n",
       "          6         7         8         9        10        11        12  \\\n",
       "0 -4.294865 -4.071812 -4.791646 -4.559603 -0.956975 -4.151893 -0.677856   \n",
       "1 -5.725925  1.625383 -4.964516 -4.825768 -3.852815 -4.164156 -0.899610   \n",
       "2 -6.261438  0.130258 -4.924407 -5.481863 -2.389743 -4.309179 -1.538690   \n",
       "3 -0.608121 -4.625715 -4.904062 -4.774277 -4.478104 -3.840984 -2.616863   \n",
       "4 -3.909956 -4.855967 -5.146725 -5.142206 -2.564400 -4.229722  1.517462   \n",
       "\n",
       "         13        14        15        16        17        18  \n",
       "0 -3.672780 -4.693730  1.651311 -3.345241 -3.723512 -2.685650  \n",
       "1 -3.663375 -3.618675 -3.317337 -2.251630 -4.213649 -4.260256  \n",
       "2 -2.784120 -3.888411 -3.289715 -3.816337 -3.866705 -3.788431  \n",
       "3 -3.443625  1.923264 -4.327539 -4.288401 -3.946356 -4.115621  \n",
       "4 -2.321126 -5.701975 -0.425106 -6.360362 -3.214725 -4.315653  "
      ]
     },
     "execution_count": 40,
     "metadata": {},
     "output_type": "execute_result"
    }
   ],
   "source": [
    "raw_classifications.head()"
   ]
  },
  {
   "cell_type": "code",
   "execution_count": 10,
   "id": "fae5629f-6223-4ce2-a25f-977e75b91d71",
   "metadata": {
    "tags": []
   },
   "outputs": [],
   "source": [
    "transformed = expit(raw_classifications.drop('Unnamed: 0', axis=1))"
   ]
  },
  {
   "cell_type": "code",
   "execution_count": 15,
   "id": "dde603cd-2720-46ff-a597-3ab3e008a580",
   "metadata": {
    "tags": []
   },
   "outputs": [],
   "source": [
    "import h5py"
   ]
  },
  {
   "cell_type": "code",
   "execution_count": 12,
   "id": "e0268f18-2c90-4232-99ca-32cd7fbec343",
   "metadata": {
    "tags": []
   },
   "outputs": [
    {
     "data": {
      "text/plain": [
       "<HDF5 dataset \"classifications\": shape (8519, 19), type \"<f8\">"
      ]
     },
     "execution_count": 12,
     "metadata": {},
     "output_type": "execute_result"
    }
   ],
   "source": [
    "h5f = h5py.File('data/toy_data/full_collection/full_collection_classifications.h5', 'w')\n",
    "h5f.create_dataset('classifications', data=transformed)\n"
   ]
  },
  {
   "cell_type": "code",
   "execution_count": 13,
   "id": "3451c344-7e34-4402-b6fa-755df50626b3",
   "metadata": {
    "tags": []
   },
   "outputs": [],
   "source": [
    "h5f.close()"
   ]
  },
  {
   "cell_type": "code",
   "execution_count": 11,
   "id": "e58093a9-bcf5-4ed6-a965-be28f3df8c38",
   "metadata": {
    "tags": []
   },
   "outputs": [
    {
     "data": {
      "text/html": [
       "<div>\n",
       "<style scoped>\n",
       "    .dataframe tbody tr th:only-of-type {\n",
       "        vertical-align: middle;\n",
       "    }\n",
       "\n",
       "    .dataframe tbody tr th {\n",
       "        vertical-align: top;\n",
       "    }\n",
       "\n",
       "    .dataframe thead th {\n",
       "        text-align: right;\n",
       "    }\n",
       "</style>\n",
       "<table border=\"1\" class=\"dataframe\">\n",
       "  <thead>\n",
       "    <tr style=\"text-align: right;\">\n",
       "      <th></th>\n",
       "      <th>0</th>\n",
       "      <th>1</th>\n",
       "      <th>2</th>\n",
       "      <th>3</th>\n",
       "      <th>4</th>\n",
       "      <th>5</th>\n",
       "      <th>6</th>\n",
       "      <th>7</th>\n",
       "      <th>8</th>\n",
       "      <th>9</th>\n",
       "      <th>10</th>\n",
       "      <th>11</th>\n",
       "      <th>12</th>\n",
       "      <th>13</th>\n",
       "      <th>14</th>\n",
       "      <th>15</th>\n",
       "      <th>16</th>\n",
       "      <th>17</th>\n",
       "      <th>18</th>\n",
       "    </tr>\n",
       "  </thead>\n",
       "  <tbody>\n",
       "    <tr>\n",
       "      <th>0</th>\n",
       "      <td>0.012650</td>\n",
       "      <td>0.040493</td>\n",
       "      <td>0.017367</td>\n",
       "      <td>0.035814</td>\n",
       "      <td>0.008026</td>\n",
       "      <td>0.004933</td>\n",
       "      <td>0.013455</td>\n",
       "      <td>0.016761</td>\n",
       "      <td>0.008230</td>\n",
       "      <td>0.010358</td>\n",
       "      <td>0.277484</td>\n",
       "      <td>0.015491</td>\n",
       "      <td>0.336740</td>\n",
       "      <td>0.024776</td>\n",
       "      <td>0.009069</td>\n",
       "      <td>0.839068</td>\n",
       "      <td>0.034051</td>\n",
       "      <td>0.023580</td>\n",
       "      <td>0.063825</td>\n",
       "    </tr>\n",
       "    <tr>\n",
       "      <th>1</th>\n",
       "      <td>0.011032</td>\n",
       "      <td>0.010790</td>\n",
       "      <td>0.010269</td>\n",
       "      <td>0.439557</td>\n",
       "      <td>0.015660</td>\n",
       "      <td>0.007523</td>\n",
       "      <td>0.003250</td>\n",
       "      <td>0.835536</td>\n",
       "      <td>0.006933</td>\n",
       "      <td>0.007957</td>\n",
       "      <td>0.020779</td>\n",
       "      <td>0.015305</td>\n",
       "      <td>0.289131</td>\n",
       "      <td>0.025005</td>\n",
       "      <td>0.026118</td>\n",
       "      <td>0.034981</td>\n",
       "      <td>0.095209</td>\n",
       "      <td>0.014577</td>\n",
       "      <td>0.013922</td>\n",
       "    </tr>\n",
       "    <tr>\n",
       "      <th>2</th>\n",
       "      <td>0.025300</td>\n",
       "      <td>0.012517</td>\n",
       "      <td>0.013930</td>\n",
       "      <td>0.467309</td>\n",
       "      <td>0.010015</td>\n",
       "      <td>0.005567</td>\n",
       "      <td>0.001905</td>\n",
       "      <td>0.532519</td>\n",
       "      <td>0.007215</td>\n",
       "      <td>0.004144</td>\n",
       "      <td>0.083958</td>\n",
       "      <td>0.013266</td>\n",
       "      <td>0.176726</td>\n",
       "      <td>0.058188</td>\n",
       "      <td>0.020067</td>\n",
       "      <td>0.035926</td>\n",
       "      <td>0.021534</td>\n",
       "      <td>0.020498</td>\n",
       "      <td>0.022130</td>\n",
       "    </tr>\n",
       "    <tr>\n",
       "      <th>3</th>\n",
       "      <td>0.048836</td>\n",
       "      <td>0.042731</td>\n",
       "      <td>0.365080</td>\n",
       "      <td>0.696945</td>\n",
       "      <td>0.433483</td>\n",
       "      <td>0.021932</td>\n",
       "      <td>0.352488</td>\n",
       "      <td>0.009702</td>\n",
       "      <td>0.007362</td>\n",
       "      <td>0.008373</td>\n",
       "      <td>0.011227</td>\n",
       "      <td>0.021021</td>\n",
       "      <td>0.068061</td>\n",
       "      <td>0.030960</td>\n",
       "      <td>0.872502</td>\n",
       "      <td>0.013028</td>\n",
       "      <td>0.013541</td>\n",
       "      <td>0.018959</td>\n",
       "      <td>0.016054</td>\n",
       "    </tr>\n",
       "    <tr>\n",
       "      <th>4</th>\n",
       "      <td>0.041729</td>\n",
       "      <td>0.008150</td>\n",
       "      <td>0.012790</td>\n",
       "      <td>0.093618</td>\n",
       "      <td>0.002321</td>\n",
       "      <td>0.001933</td>\n",
       "      <td>0.019648</td>\n",
       "      <td>0.007722</td>\n",
       "      <td>0.005785</td>\n",
       "      <td>0.005811</td>\n",
       "      <td>0.071465</td>\n",
       "      <td>0.014348</td>\n",
       "      <td>0.820164</td>\n",
       "      <td>0.089388</td>\n",
       "      <td>0.003328</td>\n",
       "      <td>0.395296</td>\n",
       "      <td>0.001726</td>\n",
       "      <td>0.038615</td>\n",
       "      <td>0.013182</td>\n",
       "    </tr>\n",
       "    <tr>\n",
       "      <th>...</th>\n",
       "      <td>...</td>\n",
       "      <td>...</td>\n",
       "      <td>...</td>\n",
       "      <td>...</td>\n",
       "      <td>...</td>\n",
       "      <td>...</td>\n",
       "      <td>...</td>\n",
       "      <td>...</td>\n",
       "      <td>...</td>\n",
       "      <td>...</td>\n",
       "      <td>...</td>\n",
       "      <td>...</td>\n",
       "      <td>...</td>\n",
       "      <td>...</td>\n",
       "      <td>...</td>\n",
       "      <td>...</td>\n",
       "      <td>...</td>\n",
       "      <td>...</td>\n",
       "      <td>...</td>\n",
       "    </tr>\n",
       "    <tr>\n",
       "      <th>8514</th>\n",
       "      <td>0.018570</td>\n",
       "      <td>0.023601</td>\n",
       "      <td>0.024584</td>\n",
       "      <td>0.308266</td>\n",
       "      <td>0.021198</td>\n",
       "      <td>0.026238</td>\n",
       "      <td>0.015962</td>\n",
       "      <td>0.951278</td>\n",
       "      <td>0.012827</td>\n",
       "      <td>0.010881</td>\n",
       "      <td>0.061318</td>\n",
       "      <td>0.021223</td>\n",
       "      <td>0.135187</td>\n",
       "      <td>0.024498</td>\n",
       "      <td>0.033009</td>\n",
       "      <td>0.125557</td>\n",
       "      <td>0.051803</td>\n",
       "      <td>0.022236</td>\n",
       "      <td>0.030976</td>\n",
       "    </tr>\n",
       "    <tr>\n",
       "      <th>8515</th>\n",
       "      <td>0.041156</td>\n",
       "      <td>0.946442</td>\n",
       "      <td>0.027758</td>\n",
       "      <td>0.027268</td>\n",
       "      <td>0.014026</td>\n",
       "      <td>0.028558</td>\n",
       "      <td>0.023701</td>\n",
       "      <td>0.014513</td>\n",
       "      <td>0.118455</td>\n",
       "      <td>0.010726</td>\n",
       "      <td>0.050055</td>\n",
       "      <td>0.014675</td>\n",
       "      <td>0.249699</td>\n",
       "      <td>0.141380</td>\n",
       "      <td>0.006701</td>\n",
       "      <td>0.086216</td>\n",
       "      <td>0.013070</td>\n",
       "      <td>0.017623</td>\n",
       "      <td>0.007791</td>\n",
       "    </tr>\n",
       "    <tr>\n",
       "      <th>8516</th>\n",
       "      <td>0.011726</td>\n",
       "      <td>0.393342</td>\n",
       "      <td>0.005655</td>\n",
       "      <td>0.063899</td>\n",
       "      <td>0.004542</td>\n",
       "      <td>0.002648</td>\n",
       "      <td>0.025962</td>\n",
       "      <td>0.001422</td>\n",
       "      <td>0.003503</td>\n",
       "      <td>0.003749</td>\n",
       "      <td>0.022637</td>\n",
       "      <td>0.003397</td>\n",
       "      <td>0.741458</td>\n",
       "      <td>0.046839</td>\n",
       "      <td>0.003412</td>\n",
       "      <td>0.023706</td>\n",
       "      <td>0.003356</td>\n",
       "      <td>0.021852</td>\n",
       "      <td>0.006453</td>\n",
       "    </tr>\n",
       "    <tr>\n",
       "      <th>8517</th>\n",
       "      <td>0.086973</td>\n",
       "      <td>0.006002</td>\n",
       "      <td>0.008456</td>\n",
       "      <td>0.639313</td>\n",
       "      <td>0.006649</td>\n",
       "      <td>0.001671</td>\n",
       "      <td>0.008849</td>\n",
       "      <td>0.008900</td>\n",
       "      <td>0.044273</td>\n",
       "      <td>0.004069</td>\n",
       "      <td>0.030608</td>\n",
       "      <td>0.005401</td>\n",
       "      <td>0.757273</td>\n",
       "      <td>0.118515</td>\n",
       "      <td>0.006082</td>\n",
       "      <td>0.018219</td>\n",
       "      <td>0.001944</td>\n",
       "      <td>0.052432</td>\n",
       "      <td>0.009891</td>\n",
       "    </tr>\n",
       "    <tr>\n",
       "      <th>8518</th>\n",
       "      <td>0.016059</td>\n",
       "      <td>0.014867</td>\n",
       "      <td>0.380695</td>\n",
       "      <td>0.796189</td>\n",
       "      <td>0.038126</td>\n",
       "      <td>0.011196</td>\n",
       "      <td>0.014317</td>\n",
       "      <td>0.017159</td>\n",
       "      <td>0.002851</td>\n",
       "      <td>0.004716</td>\n",
       "      <td>0.006670</td>\n",
       "      <td>0.003219</td>\n",
       "      <td>0.118833</td>\n",
       "      <td>0.115552</td>\n",
       "      <td>0.380500</td>\n",
       "      <td>0.002266</td>\n",
       "      <td>0.200019</td>\n",
       "      <td>0.011499</td>\n",
       "      <td>0.008532</td>\n",
       "    </tr>\n",
       "  </tbody>\n",
       "</table>\n",
       "<p>8519 rows × 19 columns</p>\n",
       "</div>"
      ],
      "text/plain": [
       "             0         1         2         3         4         5         6  \\\n",
       "0     0.012650  0.040493  0.017367  0.035814  0.008026  0.004933  0.013455   \n",
       "1     0.011032  0.010790  0.010269  0.439557  0.015660  0.007523  0.003250   \n",
       "2     0.025300  0.012517  0.013930  0.467309  0.010015  0.005567  0.001905   \n",
       "3     0.048836  0.042731  0.365080  0.696945  0.433483  0.021932  0.352488   \n",
       "4     0.041729  0.008150  0.012790  0.093618  0.002321  0.001933  0.019648   \n",
       "...        ...       ...       ...       ...       ...       ...       ...   \n",
       "8514  0.018570  0.023601  0.024584  0.308266  0.021198  0.026238  0.015962   \n",
       "8515  0.041156  0.946442  0.027758  0.027268  0.014026  0.028558  0.023701   \n",
       "8516  0.011726  0.393342  0.005655  0.063899  0.004542  0.002648  0.025962   \n",
       "8517  0.086973  0.006002  0.008456  0.639313  0.006649  0.001671  0.008849   \n",
       "8518  0.016059  0.014867  0.380695  0.796189  0.038126  0.011196  0.014317   \n",
       "\n",
       "             7         8         9        10        11        12        13  \\\n",
       "0     0.016761  0.008230  0.010358  0.277484  0.015491  0.336740  0.024776   \n",
       "1     0.835536  0.006933  0.007957  0.020779  0.015305  0.289131  0.025005   \n",
       "2     0.532519  0.007215  0.004144  0.083958  0.013266  0.176726  0.058188   \n",
       "3     0.009702  0.007362  0.008373  0.011227  0.021021  0.068061  0.030960   \n",
       "4     0.007722  0.005785  0.005811  0.071465  0.014348  0.820164  0.089388   \n",
       "...        ...       ...       ...       ...       ...       ...       ...   \n",
       "8514  0.951278  0.012827  0.010881  0.061318  0.021223  0.135187  0.024498   \n",
       "8515  0.014513  0.118455  0.010726  0.050055  0.014675  0.249699  0.141380   \n",
       "8516  0.001422  0.003503  0.003749  0.022637  0.003397  0.741458  0.046839   \n",
       "8517  0.008900  0.044273  0.004069  0.030608  0.005401  0.757273  0.118515   \n",
       "8518  0.017159  0.002851  0.004716  0.006670  0.003219  0.118833  0.115552   \n",
       "\n",
       "            14        15        16        17        18  \n",
       "0     0.009069  0.839068  0.034051  0.023580  0.063825  \n",
       "1     0.026118  0.034981  0.095209  0.014577  0.013922  \n",
       "2     0.020067  0.035926  0.021534  0.020498  0.022130  \n",
       "3     0.872502  0.013028  0.013541  0.018959  0.016054  \n",
       "4     0.003328  0.395296  0.001726  0.038615  0.013182  \n",
       "...        ...       ...       ...       ...       ...  \n",
       "8514  0.033009  0.125557  0.051803  0.022236  0.030976  \n",
       "8515  0.006701  0.086216  0.013070  0.017623  0.007791  \n",
       "8516  0.003412  0.023706  0.003356  0.021852  0.006453  \n",
       "8517  0.006082  0.018219  0.001944  0.052432  0.009891  \n",
       "8518  0.380500  0.002266  0.200019  0.011499  0.008532  \n",
       "\n",
       "[8519 rows x 19 columns]"
      ]
     },
     "execution_count": 11,
     "metadata": {},
     "output_type": "execute_result"
    }
   ],
   "source": [
    "transformed"
   ]
  },
  {
   "cell_type": "code",
   "execution_count": 35,
   "id": "50d3b681-3483-4449-b837-7865b207c586",
   "metadata": {
    "tags": []
   },
   "outputs": [],
   "source": [
    "clipped = transformed.applymap(lambda x: x if x >= 0.1 else 0.0)"
   ]
  },
  {
   "cell_type": "code",
   "execution_count": 16,
   "id": "06abee82-3ff8-44c5-8c56-8a70fc9a075d",
   "metadata": {
    "tags": []
   },
   "outputs": [
    {
     "data": {
      "text/plain": [
       "-0.034390170666076296"
      ]
     },
     "execution_count": 16,
     "metadata": {},
     "output_type": "execute_result"
    }
   ],
   "source": [
    "sum(clipped.sum(axis=1) - transformed.sum(axis=1)) / 8519"
   ]
  },
  {
   "cell_type": "code",
   "execution_count": 19,
   "id": "08ec3789-de41-4d0a-81a2-11237b7cb76f",
   "metadata": {
    "tags": []
   },
   "outputs": [],
   "source": []
  },
  {
   "cell_type": "code",
   "execution_count": 26,
   "id": "7023ed06-b6e9-44c7-beb5-64e1fe0f372e",
   "metadata": {
    "tags": []
   },
   "outputs": [
    {
     "data": {
      "text/plain": [
       "(array([2.333e+03, 2.661e+03, 2.159e+03, 9.780e+02, 2.770e+02, 8.300e+01,\n",
       "        1.900e+01, 5.000e+00, 2.000e+00, 2.000e+00]),\n",
       " array([ 1. ,  2.1,  3.2,  4.3,  5.4,  6.5,  7.6,  8.7,  9.8, 10.9, 12. ]),\n",
       " <BarContainer object of 10 artists>)"
      ]
     },
     "execution_count": 26,
     "metadata": {},
     "output_type": "execute_result"
    },
    {
     "data": {
      "image/png": "[encoded data removed]",
      "text/plain": [
       "<Figure size 432x288 with 1 Axes>"
      ]
     },
     "metadata": {
      "needs_background": "light"
     },
     "output_type": "display_data"
    }
   ],
   "source": [
    "import matplotlib.pyplot as plt\n",
    "clipped_test = transformed.applymap(lambda x: 1 if x >= 0.1 else 0)\n",
    "plt.hist(clipped_test.sum(axis=1))"
   ]
  },
  {
   "cell_type": "code",
   "execution_count": 50,
   "id": "c9ec5bb3-0e79-4fd7-81a6-c3a5709060b6",
   "metadata": {
    "tags": []
   },
   "outputs": [],
   "source": [
    "import h5py\n",
    "ti = h5py.File('data/toy_data/full_collection/full_collection_classifications.h5', 'r')\n",
    "\n",
    "# import pandas as pd\n",
    "# pd.read_hdf('data/toy_data/full_collection/full_collection_classifications.h5','classifications')"
   ]
  },
  {
   "cell_type": "code",
   "execution_count": 51,
   "id": "0ad8756e-9678-4712-a285-bd171903f8c1",
   "metadata": {
    "tags": []
   },
   "outputs": [],
   "source": [
    "passage_topics = ti['classifications'][()]"
   ]
  },
  {
   "cell_type": "code",
   "execution_count": 65,
   "id": "1be28f90-c905-471d-945e-9335f1750d66",
   "metadata": {
    "tags": []
   },
   "outputs": [
    {
     "data": {
      "text/plain": [
       "array([0.01264997, 0.04049299, 0.01736691, 0.03581383, 0.00802592,\n",
       "       0.00493251, 0.01345491, 0.01676077, 0.00823048, 0.0103578 ,\n",
       "       0.27748431, 0.01549087, 0.33673996, 0.02477628, 0.00906948,\n",
       "       0.83906816, 0.03405136, 0.02357959, 0.06382543])"
      ]
     },
     "execution_count": 65,
     "metadata": {},
     "output_type": "execute_result"
    }
   ],
   "source": [
    "passage_topics[0]"
   ]
  },
  {
   "cell_type": "code",
   "execution_count": 61,
   "id": "b509ced7-0288-44a0-a6e9-afe2c4182446",
   "metadata": {
    "tags": []
   },
   "outputs": [
    {
     "data": {
      "text/plain": [
       "array([0, 0, 0, 0, 0, 0, 0, 0, 0, 0, 0, 0, 0, 0, 0, 0, 0, 0, 0])"
      ]
     },
     "execution_count": 61,
     "metadata": {},
     "output_type": "execute_result"
    }
   ],
   "source": [
    "np.vectorize(lambda x: x if x >= 0.1 else 0)(passage_topics)[0]"
   ]
  },
  {
   "cell_type": "code",
   "execution_count": 64,
   "id": "4279dd8e-365b-4b17-bfc5-cdfbdc8c70d3",
   "metadata": {
    "tags": []
   },
   "outputs": [
    {
     "data": {
      "text/plain": [
       "array([0.        , 0.        , 0.        , 0.        , 0.        ,\n",
       "       0.        , 0.        , 0.        , 0.        , 0.        ,\n",
       "       0.27748431, 0.        , 0.33673996, 0.        , 0.        ,\n",
       "       0.83906816, 0.        , 0.        , 0.        ])"
      ]
     },
     "execution_count": 64,
     "metadata": {},
     "output_type": "execute_result"
    }
   ],
   "source": [
    "((passage_topics > 0.1) * passage_topics)[0]"
   ]
  },
  {
   "cell_type": "code",
   "execution_count": 22,
   "id": "005fb9f1-57e7-42b4-a2be-68b98e9dedf2",
   "metadata": {
    "tags": []
   },
   "outputs": [],
   "source": [
    "q_scores = np.array([0.07597718, 0.01711285, 0.05108863, 0.5699259,  0.06548463, 0.01914789,\n",
    " 0.00900588, 0.92829484, 0.03917756, 0.0087556,  0.07699114, 0.0458726,\n",
    " 0.6636871, 0.06013811, 0.07245751, 0.02525434, 0.00514808, 0.01997422,\n",
    " 0.05147067])"
   ]
  },
  {
   "cell_type": "code",
   "execution_count": 23,
   "id": "ca1fce7e-c7d0-41ff-9288-24d022ba8bf0",
   "metadata": {
    "tags": []
   },
   "outputs": [
    {
     "data": {
      "text/plain": [
       "array([0.07597718, 0.01711285, 0.05108863, 0.5699259 , 0.06548463,\n",
       "       0.01914789, 0.00900588, 0.92829484, 0.03917756, 0.0087556 ,\n",
       "       0.07699114, 0.0458726 , 0.6636871 , 0.06013811, 0.07245751,\n",
       "       0.02525434, 0.00514808, 0.01997422, 0.05147067])"
      ]
     },
     "execution_count": 23,
     "metadata": {},
     "output_type": "execute_result"
    }
   ],
   "source": [
    "q_scores"
   ]
  },
  {
   "cell_type": "code",
   "execution_count": 29,
   "id": "0c20c224-ce13-4981-a57e-93628e838115",
   "metadata": {
    "tags": []
   },
   "outputs": [],
   "source": [
    "q_scores_clipped = np.array([q if q >0.1 else 0.0 for q in q_scores])"
   ]
  },
  {
   "cell_type": "code",
   "execution_count": 30,
   "id": "af08b11c-0da9-4542-bceb-46e2fabbae3d",
   "metadata": {
    "tags": []
   },
   "outputs": [
    {
     "data": {
      "text/plain": [
       "array([0.        , 0.        , 0.        , 0.5699259 , 0.        ,\n",
       "       0.        , 0.        , 0.92829484, 0.        , 0.        ,\n",
       "       0.        , 0.        , 0.6636871 , 0.        , 0.        ,\n",
       "       0.        , 0.        , 0.        , 0.        ])"
      ]
     },
     "execution_count": 30,
     "metadata": {},
     "output_type": "execute_result"
    }
   ],
   "source": [
    "q_scores_clipped"
   ]
  },
  {
   "cell_type": "code",
   "execution_count": 37,
   "id": "1c6b0cb9-127e-4469-a64b-d02525df65e7",
   "metadata": {
    "tags": []
   },
   "outputs": [
    {
     "data": {
      "text/plain": [
       "817"
      ]
     },
     "execution_count": 37,
     "metadata": {},
     "output_type": "execute_result"
    }
   ],
   "source": [
    "len([x for x in list(clipped @ q_scores_clipped) if x == 0.0])"
   ]
  },
  {
   "cell_type": "code",
   "execution_count": 38,
   "id": "7f723c97-f227-40ff-a1cb-5b22c672dafc",
   "metadata": {
    "tags": []
   },
   "outputs": [
    {
     "data": {
      "text/plain": [
       "0       0.223490\n",
       "1       1.218031\n",
       "2       0.877956\n",
       "3       0.397207\n",
       "4       0.544333\n",
       "          ...   \n",
       "8514    1.148477\n",
       "8515    0.165722\n",
       "8516    0.492096\n",
       "8517    0.866953\n",
       "8518    0.532637\n",
       "Length: 8519, dtype: float64"
      ]
     },
     "execution_count": 38,
     "metadata": {},
     "output_type": "execute_result"
    }
   ],
   "source": [
    "clipped @ q_scores_clipped"
   ]
  },
  {
   "cell_type": "code",
   "execution_count": 43,
   "id": "cab510d6-c42a-41d5-a8a3-c5e16465575c",
   "metadata": {
    "tags": []
   },
   "outputs": [],
   "source": [
    "passages = pd.read_table('data/toy_data/full_collection/raw.tsv', header=None)"
   ]
  },
  {
   "cell_type": "code",
   "execution_count": 1,
   "id": "23579c4e-3add-4881-b293-487ab6b9bf33",
   "metadata": {
    "tags": []
   },
   "outputs": [],
   "source": [
    "import time"
   ]
  },
  {
   "cell_type": "code",
   "execution_count": 3,
   "id": "e976a1b1-3020-4d65-a9cf-ef15db3e98af",
   "metadata": {
    "tags": []
   },
   "outputs": [],
   "source": [
    "start = time.time()"
   ]
  },
  {
   "cell_type": "code",
   "execution_count": 4,
   "id": "b56b6eb4-af0c-4c21-b808-fbb3ffa41a2f",
   "metadata": {
    "tags": []
   },
   "outputs": [
    {
     "data": {
      "text/plain": [
       "1678518624.1217747"
      ]
     },
     "execution_count": 4,
     "metadata": {},
     "output_type": "execute_result"
    }
   ],
   "source": [
    "start"
   ]
  },
  {
   "cell_type": "code",
   "execution_count": 5,
   "id": "6aaf5634-f5cb-4047-ab17-5b9e03788029",
   "metadata": {
    "tags": []
   },
   "outputs": [
    {
     "data": {
      "text/plain": [
       "1678518636.5154994"
      ]
     },
     "execution_count": 5,
     "metadata": {},
     "output_type": "execute_result"
    }
   ],
   "source": [
    "time.time()"
   ]
  },
  {
   "cell_type": "code",
   "execution_count": 3,
   "id": "1d0c2de3-8e26-443b-ac13-1c68f361520a",
   "metadata": {
    "tags": []
   },
   "outputs": [],
   "source": [
    "# query classifications\n",
    "import pandas as pd"
   ]
  },
  {
   "cell_type": "code",
   "execution_count": 4,
   "id": "37cf264e-8c28-4e94-ab0a-b9369e0dcda6",
   "metadata": {
    "tags": []
   },
   "outputs": [],
   "source": [
    "raw_q_classifications = pd.read_csv('data/toy_data/dev_queries/query_classifications.csv')"
   ]
  },
  {
   "cell_type": "code",
   "execution_count": 7,
   "id": "52a0e8fa-0975-40ab-833e-faa06ba0749a",
   "metadata": {
    "tags": []
   },
   "outputs": [
    {
     "data": {
      "text/plain": [
       "(1600, 20)"
      ]
     },
     "execution_count": 7,
     "metadata": {},
     "output_type": "execute_result"
    }
   ],
   "source": [
    "raw_q_classifications.shape"
   ]
  },
  {
   "cell_type": "code",
   "execution_count": 10,
   "id": "eb234b47-9b4e-4aea-8742-2162ca0e8dcf",
   "metadata": {
    "tags": []
   },
   "outputs": [],
   "source": [
    "q_transformed = expit(raw_q_classifications.drop('Unnamed: 0', axis=1))\n",
    "import h5py\n",
    "q_h5f = h5py.File('data/toy_data/dev_queries/query_classifications.h5', 'w')\n",
    "q_h5f.create_dataset('classifications', data=q_transformed)\n",
    "q_h5f.close()\n"
   ]
  },
  {
   "cell_type": "code",
   "execution_count": null,
   "id": "05cbb14f-e56d-40d7-9ce6-2a50e02d30d0",
   "metadata": {},
   "outputs": [],
   "source": []
  }
 ],
 "metadata": {
  "kernelspec": {
   "display_name": "conda_splade-ready",
   "language": "python",
   "name": "conda_splade-ready"
  },
  "language_info": {
   "codemirror_mode": {
    "name": "ipython",
    "version": 3
   },
   "file_extension": ".py",
   "mimetype": "text/x-python",
   "name": "python",
   "nbconvert_exporter": "python",
   "pygments_lexer": "ipython3",
   "version": "3.8.13"
  }
 },
 "nbformat": 4,
 "nbformat_minor": 5
}
