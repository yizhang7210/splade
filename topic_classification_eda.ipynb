{
 "cells": [
  {
   "cell_type": "code",
   "execution_count": 1,
   "id": "08fb9e8b-bc43-43f4-87fa-b40b9d798c51",
   "metadata": {
    "tags": []
   },
   "outputs": [
    {
     "name": "stderr",
     "output_type": "stream",
     "text": [
      "/home/ec2-user/SageMaker/custom-miniconda/miniconda/envs/splade-ready/lib/python3.8/site-packages/tqdm/auto.py:22: TqdmWarning: IProgress not found. Please update jupyter and ipywidgets. See https://ipywidgets.readthedocs.io/en/stable/user_install.html\n",
      "  from .autonotebook import tqdm as notebook_tqdm\n"
     ]
    }
   ],
   "source": [
    "import pandas as pd\n",
    "import torch"
   ]
  },
  {
   "cell_type": "code",
   "execution_count": 19,
   "id": "8efc379b-0adf-4df2-9e37-1be3bea91db5",
   "metadata": {
    "tags": []
   },
   "outputs": [],
   "source": [
    "full_collection = pd.read_table('data/toy_data/full_collection/raw.tsv', sep='\\t', header=None)"
   ]
  },
  {
   "cell_type": "code",
   "execution_count": 32,
   "id": "0563498a-59c3-43b5-84e6-3f805ea5e12f",
   "metadata": {
    "tags": []
   },
   "outputs": [
    {
     "data": {
      "text/plain": [
       "8519"
      ]
     },
     "execution_count": 32,
     "metadata": {},
     "output_type": "execute_result"
    }
   ],
   "source": [
    "len(full_collection)"
   ]
  },
  {
   "cell_type": "code",
   "execution_count": 21,
   "id": "21b5298a-6b50-459f-baaa-a5a0cef1e59d",
   "metadata": {
    "tags": []
   },
   "outputs": [
    {
     "data": {
      "text/plain": [
       "'The presence of communication amid scientific minds was equally important to the success of the Manhattan Project as scientific intellect was. The only cloud hanging over the impressive achievement of the atomic researchers and engineers is what their success truly meant; hundreds of thousands of innocent lives obliterated.'"
      ]
     },
     "execution_count": 21,
     "metadata": {},
     "output_type": "execute_result"
    }
   ],
   "source": [
    "full_collection[1][0]"
   ]
  },
  {
   "cell_type": "code",
   "execution_count": 11,
   "id": "c3f827b6-feae-4f24-9a24-04b6a58b3e5a",
   "metadata": {
    "tags": []
   },
   "outputs": [],
   "source": [
    "from transformers import AutoModelForSequenceClassification, TFAutoModelForSequenceClassification\n",
    "from transformers import AutoTokenizer\n",
    "import numpy as np\n",
    "from scipy.special import expit"
   ]
  },
  {
   "cell_type": "code",
   "execution_count": 12,
   "id": "8392aa6c-5b44-472a-b13f-bc40f23b8872",
   "metadata": {
    "tags": []
   },
   "outputs": [
    {
     "name": "stderr",
     "output_type": "stream",
     "text": [
      "Downloading: 100%|██████████| 1.27k/1.27k [00:00<00:00, 537kB/s]\n",
      "Downloading: 100%|██████████| 780k/780k [00:00<00:00, 2.47MB/s]\n",
      "Downloading: 100%|██████████| 446k/446k [00:00<00:00, 1.48MB/s]\n",
      "Downloading: 100%|██████████| 1.29M/1.29M [00:00<00:00, 3.09MB/s]\n",
      "Downloading: 100%|██████████| 239/239 [00:00<00:00, 166kB/s]\n",
      "Downloading: 100%|██████████| 1.84k/1.84k [00:00<00:00, 457kB/s]\n",
      "Downloading: 100%|██████████| 476M/476M [00:24<00:00, 20.7MB/s] \n"
     ]
    },
    {
     "ename": "NameError",
     "evalue": "name 'full_collection' is not defined",
     "output_type": "error",
     "traceback": [
      "\u001b[0;31m---------------------------------------------------------------------------\u001b[0m",
      "\u001b[0;31mNameError\u001b[0m                                 Traceback (most recent call last)",
      "Cell \u001b[0;32mIn[12], line 8\u001b[0m\n\u001b[1;32m      5\u001b[0m model \u001b[38;5;241m=\u001b[39m AutoModelForSequenceClassification\u001b[38;5;241m.\u001b[39mfrom_pretrained(MODEL)\n\u001b[1;32m      6\u001b[0m class_mapping \u001b[38;5;241m=\u001b[39m model\u001b[38;5;241m.\u001b[39mconfig\u001b[38;5;241m.\u001b[39mid2label\n\u001b[0;32m----> 8\u001b[0m text \u001b[38;5;241m=\u001b[39m \u001b[38;5;28mlist\u001b[39m(\u001b[43mfull_collection\u001b[49m[\u001b[38;5;241m1\u001b[39m])\n",
      "\u001b[0;31mNameError\u001b[0m: name 'full_collection' is not defined"
     ]
    }
   ],
   "source": [
    "MODEL = f\"cardiffnlp/tweet-topic-21-multi\"\n",
    "tokenizer = AutoTokenizer.from_pretrained(MODEL)\n",
    "\n",
    "# PT\n",
    "model = AutoModelForSequenceClassification.from_pretrained(MODEL)\n",
    "class_mapping = model.config.id2label\n",
    "\n",
    "text = list(full_collection[1])"
   ]
  },
  {
   "cell_type": "code",
   "execution_count": 13,
   "id": "359409a3-256d-4fb0-8d51-503b28c09892",
   "metadata": {
    "tags": []
   },
   "outputs": [
    {
     "data": {
      "text/plain": [
       "{0: 'arts_&_culture',\n",
       " 1: 'business_&_entrepreneurs',\n",
       " 2: 'celebrity_&_pop_culture',\n",
       " 3: 'diaries_&_daily_life',\n",
       " 4: 'family',\n",
       " 5: 'fashion_&_style',\n",
       " 6: 'film_tv_&_video',\n",
       " 7: 'fitness_&_health',\n",
       " 8: 'food_&_dining',\n",
       " 9: 'gaming',\n",
       " 10: 'learning_&_educational',\n",
       " 11: 'music',\n",
       " 12: 'news_&_social_concern',\n",
       " 13: 'other_hobbies',\n",
       " 14: 'relationships',\n",
       " 15: 'science_&_technology',\n",
       " 16: 'sports',\n",
       " 17: 'travel_&_adventure',\n",
       " 18: 'youth_&_student_life'}"
      ]
     },
     "execution_count": 13,
     "metadata": {},
     "output_type": "execute_result"
    }
   ],
   "source": [
    "class_mapping"
   ]
  },
  {
   "cell_type": "code",
   "execution_count": 48,
   "id": "c28dc08c-c1ae-493f-badf-186820d91b7f",
   "metadata": {
    "tags": []
   },
   "outputs": [
    {
     "data": {
      "text/plain": [
       "311"
      ]
     },
     "execution_count": 48,
     "metadata": {},
     "output_type": "execute_result"
    }
   ],
   "source": [
    "len(text[1])"
   ]
  },
  {
   "cell_type": "code",
   "execution_count": 67,
   "id": "5cc7c0f1-114b-40cb-afdc-bb50f85f3676",
   "metadata": {
    "tags": []
   },
   "outputs": [],
   "source": [
    "#tokens = tokenizer(text[0:10], truncation=True, max_length=512, return_tensors='pt')\n",
    "tokens = tokenizer(text[0:10], truncation=True, max_length=512, padding='max_length', return_tensors='pt')"
   ]
  },
  {
   "cell_type": "code",
   "execution_count": 68,
   "id": "2737c687-b8a8-4fdc-89f0-89038eb81de7",
   "metadata": {
    "tags": []
   },
   "outputs": [
    {
     "data": {
      "text/plain": [
       "{'input_ids': tensor([[    0,   133,  2621,  ...,     1,     1,     1],\n",
       "        [    0,  1106,     5,  ...,     1,     1,     1],\n",
       "        [    0,   133,   129,  ...,     1,     1,     1],\n",
       "        ...,\n",
       "        [    0,   133,  2136,  ...,     1,     1,     1],\n",
       "        [    0, 33295, 17444,  ...,     1,     1,     1],\n",
       "        [    0,  6179,  7840,  ...,     1,     1,     1]]), 'attention_mask': tensor([[1, 1, 1,  ..., 0, 0, 0],\n",
       "        [1, 1, 1,  ..., 0, 0, 0],\n",
       "        [1, 1, 1,  ..., 0, 0, 0],\n",
       "        ...,\n",
       "        [1, 1, 1,  ..., 0, 0, 0],\n",
       "        [1, 1, 1,  ..., 0, 0, 0],\n",
       "        [1, 1, 1,  ..., 0, 0, 0]])}"
      ]
     },
     "execution_count": 68,
     "metadata": {},
     "output_type": "execute_result"
    }
   ],
   "source": [
    "tokens"
   ]
  },
  {
   "cell_type": "code",
   "execution_count": 69,
   "id": "a01b521b-73e4-4df4-82df-cdcfd6c86970",
   "metadata": {
    "tags": []
   },
   "outputs": [
    {
     "name": "stdout",
     "output_type": "stream",
     "text": [
      "[0.01264997 0.04049299 0.01736691 0.03581383 0.00802592 0.00493251\n",
      " 0.01345491 0.01676077 0.00823048 0.0103578  0.2774843  0.01549087\n",
      " 0.33673996 0.02477628 0.00906948 0.8390681  0.03405136 0.02357959\n",
      " 0.06382543]\n",
      "1.792171472683549\n"
     ]
    }
   ],
   "source": [
    "output = model(**tokens)\n",
    "\n",
    "scores = output[0][0].detach().numpy()\n",
    "scores = expit(scores)\n",
    "print(scores)\n",
    "print(sum(scores))"
   ]
  },
  {
   "cell_type": "code",
   "execution_count": 74,
   "id": "40c81efe-5867-414e-b17f-4052b49bec51",
   "metadata": {
    "tags": []
   },
   "outputs": [
    {
     "data": {
      "text/plain": [
       "(10, 19)"
      ]
     },
     "execution_count": 74,
     "metadata": {},
     "output_type": "execute_result"
    }
   ],
   "source": [
    "output[0].detach().numpy().shape"
   ]
  },
  {
   "cell_type": "code",
   "execution_count": 77,
   "id": "bcb99f89-44ec-4ac4-ba23-87626a52370c",
   "metadata": {
    "tags": []
   },
   "outputs": [],
   "source": [
    "!export PYTHONPATH=$PYTHONPATH:$(pwd)"
   ]
  },
  {
   "cell_type": "code",
   "execution_count": 4,
   "id": "38153c77-fe87-4dd4-81a4-21270db50e04",
   "metadata": {
    "tags": []
   },
   "outputs": [
    {
     "name": "stdout",
     "output_type": "stream",
     "text": [
      "Preloading dataset\n"
     ]
    },
    {
     "name": "stderr",
     "output_type": "stream",
     "text": [
      "8519it [00:00, 202645.56it/s]\n"
     ]
    }
   ],
   "source": [
    "from splade.datasets.datasets import CollectionDatasetPreLoad\n",
    "d_collection = CollectionDatasetPreLoad(data_dir='data/toy_data/full_collection/', id_style=\"row_id\")"
   ]
  },
  {
   "cell_type": "code",
   "execution_count": 5,
   "id": "386d42ed-67c2-4db3-a75e-40135b0f201b",
   "metadata": {
    "tags": []
   },
   "outputs": [],
   "source": [
    "passages = []\n",
    "for i in range(len(d_collection)):\n",
    "    passages.append(d_collection[i][1])"
   ]
  },
  {
   "cell_type": "code",
   "execution_count": 6,
   "id": "8f13c7d0-653e-4438-bff2-6f5f8586f800",
   "metadata": {
    "tags": []
   },
   "outputs": [
    {
     "data": {
      "text/plain": [
       "8519"
      ]
     },
     "execution_count": 6,
     "metadata": {},
     "output_type": "execute_result"
    }
   ],
   "source": [
    "len(passages)"
   ]
  },
  {
   "cell_type": "code",
   "execution_count": 15,
   "id": "0f323a51-b96a-40e3-ac1b-bd49492cc29d",
   "metadata": {
    "tags": []
   },
   "outputs": [],
   "source": [
    "MODEL = f\"cardiffnlp/tweet-topic-21-multi\"\n",
    "tokenizer = AutoTokenizer.from_pretrained(MODEL)\n",
    "\n",
    "# PT\n",
    "model = AutoModelForSequenceClassification.from_pretrained(MODEL)\n",
    "tokens = tokenizer(passages[:20], truncation=True, max_length=512, padding='max_length', return_tensors='pt')\n",
    "\n",
    "output = model(**tokens)\n"
   ]
  },
  {
   "cell_type": "code",
   "execution_count": 8,
   "id": "a4cb5b9b-56af-4394-9664-04036ba4a4c6",
   "metadata": {
    "tags": []
   },
   "outputs": [
    {
     "data": {
      "text/plain": [
       "{'input_ids': tensor([[    0,   133,  2621,  ...,     1,     1,     1],\n",
       "        [    0,  1106,     5,  ...,     1,     1,     1],\n",
       "        [    0,   133,   129,  ...,     1,     1,     1],\n",
       "        ...,\n",
       "        [    0,  9344, 30300,  ...,     1,     1,     1],\n",
       "        [    0,   250,  3723,  ...,     1,     1,     1],\n",
       "        [    0,  1779,    16,  ...,     1,     1,     1]]), 'attention_mask': tensor([[1, 1, 1,  ..., 0, 0, 0],\n",
       "        [1, 1, 1,  ..., 0, 0, 0],\n",
       "        [1, 1, 1,  ..., 0, 0, 0],\n",
       "        ...,\n",
       "        [1, 1, 1,  ..., 0, 0, 0],\n",
       "        [1, 1, 1,  ..., 0, 0, 0],\n",
       "        [1, 1, 1,  ..., 0, 0, 0]])}"
      ]
     },
     "execution_count": 8,
     "metadata": {},
     "output_type": "execute_result"
    }
   ],
   "source": [
    "tokens"
   ]
  },
  {
   "cell_type": "code",
   "execution_count": 20,
   "id": "138dbf55-1e93-4d76-be22-026f17c5ab2d",
   "metadata": {
    "tags": []
   },
   "outputs": [],
   "source": [
    "batch_1 = output[0].detach().numpy()\n",
    "batch_2 = output[0].detach().numpy()"
   ]
  },
  {
   "cell_type": "code",
   "execution_count": 18,
   "id": "6842ce86-76f4-4cf3-884b-148455f7f8de",
   "metadata": {
    "tags": []
   },
   "outputs": [],
   "source": [
    "import h5py"
   ]
  },
  {
   "cell_type": "code",
   "execution_count": 24,
   "id": "fd412342-c40e-476e-8549-3ca856c36d0b",
   "metadata": {
    "tags": []
   },
   "outputs": [
    {
     "data": {
      "text/plain": [
       "(40, 19)"
      ]
     },
     "execution_count": 24,
     "metadata": {},
     "output_type": "execute_result"
    }
   ],
   "source": [
    "np.vstack([batch_1, batch_2]).shape"
   ]
  },
  {
   "cell_type": "code",
   "execution_count": 27,
   "id": "9a36d53d-d7c6-460f-b5c2-cd56730c74b5",
   "metadata": {
    "tags": []
   },
   "outputs": [],
   "source": [
    "empty = np.empty(shape=(0, 19))"
   ]
  },
  {
   "cell_type": "code",
   "execution_count": 28,
   "id": "18927f4a-c8ec-4b84-bc8c-88e94f210278",
   "metadata": {
    "tags": []
   },
   "outputs": [
    {
     "data": {
      "text/plain": [
       "(20, 19)"
      ]
     },
     "execution_count": 28,
     "metadata": {},
     "output_type": "execute_result"
    }
   ],
   "source": [
    "np.vstack([empty, batch_1]).shape"
   ]
  },
  {
   "cell_type": "code",
   "execution_count": 1,
   "id": "2ab89895-96eb-48e8-ab5e-a06dc94ab2a6",
   "metadata": {
    "tags": []
   },
   "outputs": [
    {
     "data": {
      "text/plain": [
       "[12, 3]"
      ]
     },
     "execution_count": 1,
     "metadata": {},
     "output_type": "execute_result"
    }
   ],
   "source": [
    "a = [12,3,4]\n",
    "a[0:2]"
   ]
  },
  {
   "cell_type": "code",
   "execution_count": 7,
   "id": "759ec54d-d7c8-4a8e-81da-ddacb5d963a6",
   "metadata": {
    "tags": []
   },
   "outputs": [
    {
     "name": "stdout",
     "output_type": "stream",
     "text": [
      "indexing batch 0\n",
      "0 10\n",
      "[0, 1, 2, 3, 4, 5, 6, 7, 8, 9]\n",
      "-=------------- 10\n",
      "indexing batch 1\n",
      "10 20\n",
      "[10, 11, 12, 13, 14, 15, 16, 17, 18, 19]\n",
      "-=------------- 10\n",
      "indexing batch 2\n",
      "20 30\n",
      "[20, 21, 22, 23, 24, 25, 26, 27, 28, 29]\n",
      "-=------------- 10\n",
      "indexing batch 3\n",
      "30 40\n",
      "[30, 31, 32, 33, 34, 35, 36, 37, 38, 39]\n",
      "-=------------- 10\n",
      "indexing batch 4\n",
      "40 50\n",
      "[40, 41, 42, 43, 44, 45, 46, 47, 48, 49]\n",
      "-=------------- 10\n"
     ]
    }
   ],
   "source": [
    "batch_size = 10\n",
    "arr = range(100)\n",
    "for i in range(5):\n",
    "    print(f\"indexing batch {i}\")\n",
    "    start = i * batch_size\n",
    "    end = (i +1) * batch_size\n",
    "    print(start, end)\n",
    "    print(list(arr[start:end]))\n",
    "    print(\"-=-------------\", len(list(arr[start:end])))\n"
   ]
  },
  {
   "cell_type": "code",
   "execution_count": 2,
   "id": "8d6b3ecc-bcaf-47a3-adb2-b1e86866bb2b",
   "metadata": {
    "tags": []
   },
   "outputs": [],
   "source": [
    "#==========================================\n",
    "# Reading the generated topics back"
   ]
  },
  {
   "cell_type": "code",
   "execution_count": 4,
   "id": "d44cb7c4-1794-4674-b01d-46e99f6ddc8e",
   "metadata": {
    "tags": []
   },
   "outputs": [],
   "source": [
    "raw_classifications = pd.read_csv('full_collection_classifications.csv')"
   ]
  },
  {
   "cell_type": "code",
   "execution_count": 14,
   "id": "fae5629f-6223-4ce2-a25f-977e75b91d71",
   "metadata": {
    "tags": []
   },
   "outputs": [],
   "source": [
    "transformed = expit(raw_classifications.drop('Unnamed: 0', axis=1))"
   ]
  },
  {
   "cell_type": "code",
   "execution_count": 15,
   "id": "dde603cd-2720-46ff-a597-3ab3e008a580",
   "metadata": {
    "tags": []
   },
   "outputs": [],
   "source": [
    "import h5py"
   ]
  },
  {
   "cell_type": "code",
   "execution_count": 16,
   "id": "e0268f18-2c90-4232-99ca-32cd7fbec343",
   "metadata": {
    "tags": []
   },
   "outputs": [
    {
     "data": {
      "text/plain": [
       "<HDF5 dataset \"classifications\": shape (8519, 19), type \"<f8\">"
      ]
     },
     "execution_count": 16,
     "metadata": {},
     "output_type": "execute_result"
    }
   ],
   "source": [
    "h5f = h5py.File('full_collection_classifications.h5', 'w')\n",
    "h5f.create_dataset('classifications', data=transformed)"
   ]
  },
  {
   "cell_type": "code",
   "execution_count": null,
   "id": "e58093a9-bcf5-4ed6-a965-be28f3df8c38",
   "metadata": {},
   "outputs": [],
   "source": []
  }
 ],
 "metadata": {
  "kernelspec": {
   "display_name": "conda_splade-ready",
   "language": "python",
   "name": "conda_splade-ready"
  },
  "language_info": {
   "codemirror_mode": {
    "name": "ipython",
    "version": 3
   },
   "file_extension": ".py",
   "mimetype": "text/x-python",
   "name": "python",
   "nbconvert_exporter": "python",
   "pygments_lexer": "ipython3",
   "version": "3.8.13"
  }
 },
 "nbformat": 4,
 "nbformat_minor": 5
}
